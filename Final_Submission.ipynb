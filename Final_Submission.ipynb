{
 "cells": [
  {
   "cell_type": "code",
   "execution_count": 1,
   "metadata": {},
   "outputs": [],
   "source": [
    "# Supress Warnings\n",
    "import warnings\n",
    "warnings.filterwarnings('ignore')"
   ]
  },
  {
   "cell_type": "code",
   "execution_count": 2,
   "metadata": {},
   "outputs": [],
   "source": [
    "# Importing needed Libraries\n",
    "import numpy as np\n",
    "import pandas as pd\n",
    "import matplotlib.pyplot as plt\n",
    "import seaborn as sns"
   ]
  },
  {
   "cell_type": "code",
   "execution_count": 3,
   "metadata": {},
   "outputs": [
    {
     "data": {
      "text/html": [
       "<div>\n",
       "<style scoped>\n",
       "    .dataframe tbody tr th:only-of-type {\n",
       "        vertical-align: middle;\n",
       "    }\n",
       "\n",
       "    .dataframe tbody tr th {\n",
       "        vertical-align: top;\n",
       "    }\n",
       "\n",
       "    .dataframe thead th {\n",
       "        text-align: right;\n",
       "    }\n",
       "</style>\n",
       "<table border=\"1\" class=\"dataframe\">\n",
       "  <thead>\n",
       "    <tr style=\"text-align: right;\">\n",
       "      <th></th>\n",
       "      <th>mobile_number</th>\n",
       "      <th>circle_id</th>\n",
       "      <th>loc_og_t2o_mou</th>\n",
       "      <th>std_og_t2o_mou</th>\n",
       "      <th>loc_ic_t2o_mou</th>\n",
       "      <th>last_date_of_month_6</th>\n",
       "      <th>last_date_of_month_7</th>\n",
       "      <th>last_date_of_month_8</th>\n",
       "      <th>last_date_of_month_9</th>\n",
       "      <th>arpu_6</th>\n",
       "      <th>...</th>\n",
       "      <th>sachet_3g_9</th>\n",
       "      <th>fb_user_6</th>\n",
       "      <th>fb_user_7</th>\n",
       "      <th>fb_user_8</th>\n",
       "      <th>fb_user_9</th>\n",
       "      <th>aon</th>\n",
       "      <th>aug_vbc_3g</th>\n",
       "      <th>jul_vbc_3g</th>\n",
       "      <th>jun_vbc_3g</th>\n",
       "      <th>sep_vbc_3g</th>\n",
       "    </tr>\n",
       "  </thead>\n",
       "  <tbody>\n",
       "    <tr>\n",
       "      <th>0</th>\n",
       "      <td>7000842753</td>\n",
       "      <td>109</td>\n",
       "      <td>0.0</td>\n",
       "      <td>0.0</td>\n",
       "      <td>0.0</td>\n",
       "      <td>6/30/2014</td>\n",
       "      <td>7/31/2014</td>\n",
       "      <td>8/31/2014</td>\n",
       "      <td>9/30/2014</td>\n",
       "      <td>197.385</td>\n",
       "      <td>...</td>\n",
       "      <td>0</td>\n",
       "      <td>1.0</td>\n",
       "      <td>1.0</td>\n",
       "      <td>1.0</td>\n",
       "      <td>NaN</td>\n",
       "      <td>968</td>\n",
       "      <td>30.4</td>\n",
       "      <td>0.0</td>\n",
       "      <td>101.20</td>\n",
       "      <td>3.58</td>\n",
       "    </tr>\n",
       "    <tr>\n",
       "      <th>1</th>\n",
       "      <td>7001865778</td>\n",
       "      <td>109</td>\n",
       "      <td>0.0</td>\n",
       "      <td>0.0</td>\n",
       "      <td>0.0</td>\n",
       "      <td>6/30/2014</td>\n",
       "      <td>7/31/2014</td>\n",
       "      <td>8/31/2014</td>\n",
       "      <td>9/30/2014</td>\n",
       "      <td>34.047</td>\n",
       "      <td>...</td>\n",
       "      <td>0</td>\n",
       "      <td>NaN</td>\n",
       "      <td>1.0</td>\n",
       "      <td>1.0</td>\n",
       "      <td>NaN</td>\n",
       "      <td>1006</td>\n",
       "      <td>0.0</td>\n",
       "      <td>0.0</td>\n",
       "      <td>0.00</td>\n",
       "      <td>0.00</td>\n",
       "    </tr>\n",
       "    <tr>\n",
       "      <th>2</th>\n",
       "      <td>7001625959</td>\n",
       "      <td>109</td>\n",
       "      <td>0.0</td>\n",
       "      <td>0.0</td>\n",
       "      <td>0.0</td>\n",
       "      <td>6/30/2014</td>\n",
       "      <td>7/31/2014</td>\n",
       "      <td>8/31/2014</td>\n",
       "      <td>9/30/2014</td>\n",
       "      <td>167.690</td>\n",
       "      <td>...</td>\n",
       "      <td>0</td>\n",
       "      <td>NaN</td>\n",
       "      <td>NaN</td>\n",
       "      <td>NaN</td>\n",
       "      <td>1.0</td>\n",
       "      <td>1103</td>\n",
       "      <td>0.0</td>\n",
       "      <td>0.0</td>\n",
       "      <td>4.17</td>\n",
       "      <td>0.00</td>\n",
       "    </tr>\n",
       "    <tr>\n",
       "      <th>3</th>\n",
       "      <td>7001204172</td>\n",
       "      <td>109</td>\n",
       "      <td>0.0</td>\n",
       "      <td>0.0</td>\n",
       "      <td>0.0</td>\n",
       "      <td>6/30/2014</td>\n",
       "      <td>7/31/2014</td>\n",
       "      <td>8/31/2014</td>\n",
       "      <td>9/30/2014</td>\n",
       "      <td>221.338</td>\n",
       "      <td>...</td>\n",
       "      <td>0</td>\n",
       "      <td>NaN</td>\n",
       "      <td>NaN</td>\n",
       "      <td>NaN</td>\n",
       "      <td>NaN</td>\n",
       "      <td>2491</td>\n",
       "      <td>0.0</td>\n",
       "      <td>0.0</td>\n",
       "      <td>0.00</td>\n",
       "      <td>0.00</td>\n",
       "    </tr>\n",
       "    <tr>\n",
       "      <th>4</th>\n",
       "      <td>7000142493</td>\n",
       "      <td>109</td>\n",
       "      <td>0.0</td>\n",
       "      <td>0.0</td>\n",
       "      <td>0.0</td>\n",
       "      <td>6/30/2014</td>\n",
       "      <td>7/31/2014</td>\n",
       "      <td>8/31/2014</td>\n",
       "      <td>9/30/2014</td>\n",
       "      <td>261.636</td>\n",
       "      <td>...</td>\n",
       "      <td>0</td>\n",
       "      <td>0.0</td>\n",
       "      <td>NaN</td>\n",
       "      <td>NaN</td>\n",
       "      <td>NaN</td>\n",
       "      <td>1526</td>\n",
       "      <td>0.0</td>\n",
       "      <td>0.0</td>\n",
       "      <td>0.00</td>\n",
       "      <td>0.00</td>\n",
       "    </tr>\n",
       "  </tbody>\n",
       "</table>\n",
       "<p>5 rows × 226 columns</p>\n",
       "</div>"
      ],
      "text/plain": [
       "   mobile_number  circle_id  loc_og_t2o_mou  std_og_t2o_mou  loc_ic_t2o_mou  \\\n",
       "0     7000842753        109             0.0             0.0             0.0   \n",
       "1     7001865778        109             0.0             0.0             0.0   \n",
       "2     7001625959        109             0.0             0.0             0.0   \n",
       "3     7001204172        109             0.0             0.0             0.0   \n",
       "4     7000142493        109             0.0             0.0             0.0   \n",
       "\n",
       "  last_date_of_month_6 last_date_of_month_7 last_date_of_month_8  \\\n",
       "0            6/30/2014            7/31/2014            8/31/2014   \n",
       "1            6/30/2014            7/31/2014            8/31/2014   \n",
       "2            6/30/2014            7/31/2014            8/31/2014   \n",
       "3            6/30/2014            7/31/2014            8/31/2014   \n",
       "4            6/30/2014            7/31/2014            8/31/2014   \n",
       "\n",
       "  last_date_of_month_9   arpu_6     ...      sachet_3g_9  fb_user_6  \\\n",
       "0            9/30/2014  197.385     ...                0        1.0   \n",
       "1            9/30/2014   34.047     ...                0        NaN   \n",
       "2            9/30/2014  167.690     ...                0        NaN   \n",
       "3            9/30/2014  221.338     ...                0        NaN   \n",
       "4            9/30/2014  261.636     ...                0        0.0   \n",
       "\n",
       "   fb_user_7  fb_user_8  fb_user_9   aon  aug_vbc_3g  jul_vbc_3g  jun_vbc_3g  \\\n",
       "0        1.0        1.0        NaN   968        30.4         0.0      101.20   \n",
       "1        1.0        1.0        NaN  1006         0.0         0.0        0.00   \n",
       "2        NaN        NaN        1.0  1103         0.0         0.0        4.17   \n",
       "3        NaN        NaN        NaN  2491         0.0         0.0        0.00   \n",
       "4        NaN        NaN        NaN  1526         0.0         0.0        0.00   \n",
       "\n",
       "   sep_vbc_3g  \n",
       "0        3.58  \n",
       "1        0.00  \n",
       "2        0.00  \n",
       "3        0.00  \n",
       "4        0.00  \n",
       "\n",
       "[5 rows x 226 columns]"
      ]
     },
     "execution_count": 3,
     "metadata": {},
     "output_type": "execute_result"
    }
   ],
   "source": [
    "#Import the source file into dataframe\n",
    "telecom_data= pd.read_csv(\"telecom_churn_data.csv\")\n",
    "telecom_data.head(5)"
   ]
  },
  {
   "cell_type": "code",
   "execution_count": 4,
   "metadata": {},
   "outputs": [
    {
     "name": "stdout",
     "output_type": "stream",
     "text": [
      "<class 'pandas.core.frame.DataFrame'>\n",
      "RangeIndex: 99999 entries, 0 to 99998\n",
      "Columns: 226 entries, mobile_number to sep_vbc_3g\n",
      "dtypes: float64(179), int64(35), object(12)\n",
      "memory usage: 172.4+ MB\n"
     ]
    }
   ],
   "source": [
    "telecom_data.info()"
   ]
  },
  {
   "cell_type": "code",
   "execution_count": 5,
   "metadata": {},
   "outputs": [
    {
     "data": {
      "text/plain": [
       "total_rech_amt_6             0.000000\n",
       "total_rech_amt_7             0.000000\n",
       "total_rech_amt_8             0.000000\n",
       "total_rech_amt_9             0.000000\n",
       "max_rech_amt_6               0.000000\n",
       "max_rech_amt_7               0.000000\n",
       "max_rech_amt_8               0.000000\n",
       "max_rech_amt_9               0.000000\n",
       "date_of_last_rech_data_6    74.846748\n",
       "date_of_last_rech_data_7    74.428744\n",
       "date_of_last_rech_data_8    73.660737\n",
       "date_of_last_rech_data_9    74.077741\n",
       "total_rech_data_6           74.846748\n",
       "total_rech_data_7           74.428744\n",
       "total_rech_data_8           73.660737\n",
       "total_rech_data_9           74.077741\n",
       "max_rech_data_6             74.846748\n",
       "max_rech_data_7             74.428744\n",
       "max_rech_data_8             73.660737\n",
       "max_rech_data_9             74.077741\n",
       "av_rech_amt_data_6          74.846748\n",
       "av_rech_amt_data_7          74.428744\n",
       "av_rech_amt_data_8          73.660737\n",
       "av_rech_amt_data_9          74.077741\n",
       "dtype: float64"
      ]
     },
     "execution_count": 5,
     "metadata": {},
     "output_type": "execute_result"
    }
   ],
   "source": [
    "recharge_amt= ['total_rech_amt_6', 'total_rech_amt_7', 'total_rech_amt_8',\n",
    "       'total_rech_amt_9', 'max_rech_amt_6', 'max_rech_amt_7',\n",
    "       'max_rech_amt_8', 'max_rech_amt_9', 'date_of_last_rech_data_6',\n",
    "       'date_of_last_rech_data_7', 'date_of_last_rech_data_8',\n",
    "       'date_of_last_rech_data_9', 'total_rech_data_6', 'total_rech_data_7',\n",
    "       'total_rech_data_8', 'total_rech_data_9', 'max_rech_data_6',\n",
    "       'max_rech_data_7', 'max_rech_data_8', 'max_rech_data_9',\n",
    "       'av_rech_amt_data_6', 'av_rech_amt_data_7', 'av_rech_amt_data_8',\n",
    "       'av_rech_amt_data_9']\n",
    "100*telecom_data.loc[:,recharge_amt].isnull().sum()/len(telecom_data)"
   ]
  },
  {
   "cell_type": "code",
   "execution_count": 6,
   "metadata": {},
   "outputs": [
    {
     "data": {
      "text/html": [
       "<div>\n",
       "<style scoped>\n",
       "    .dataframe tbody tr th:only-of-type {\n",
       "        vertical-align: middle;\n",
       "    }\n",
       "\n",
       "    .dataframe tbody tr th {\n",
       "        vertical-align: top;\n",
       "    }\n",
       "\n",
       "    .dataframe thead th {\n",
       "        text-align: right;\n",
       "    }\n",
       "</style>\n",
       "<table border=\"1\" class=\"dataframe\">\n",
       "  <thead>\n",
       "    <tr style=\"text-align: right;\">\n",
       "      <th></th>\n",
       "      <th>total_rech_amt_6</th>\n",
       "      <th>max_rech_amt_6</th>\n",
       "      <th>total_rech_data_6</th>\n",
       "      <th>max_rech_data_6</th>\n",
       "      <th>av_rech_amt_data_6</th>\n",
       "    </tr>\n",
       "  </thead>\n",
       "  <tbody>\n",
       "    <tr>\n",
       "      <th>count</th>\n",
       "      <td>99999.000000</td>\n",
       "      <td>99999.000000</td>\n",
       "      <td>25153.000000</td>\n",
       "      <td>25153.000000</td>\n",
       "      <td>25153.000000</td>\n",
       "    </tr>\n",
       "    <tr>\n",
       "      <th>mean</th>\n",
       "      <td>327.514615</td>\n",
       "      <td>104.637486</td>\n",
       "      <td>2.463802</td>\n",
       "      <td>126.393392</td>\n",
       "      <td>192.600982</td>\n",
       "    </tr>\n",
       "    <tr>\n",
       "      <th>std</th>\n",
       "      <td>398.019701</td>\n",
       "      <td>120.614894</td>\n",
       "      <td>2.789128</td>\n",
       "      <td>108.477235</td>\n",
       "      <td>192.646318</td>\n",
       "    </tr>\n",
       "    <tr>\n",
       "      <th>min</th>\n",
       "      <td>0.000000</td>\n",
       "      <td>0.000000</td>\n",
       "      <td>1.000000</td>\n",
       "      <td>1.000000</td>\n",
       "      <td>1.000000</td>\n",
       "    </tr>\n",
       "    <tr>\n",
       "      <th>25%</th>\n",
       "      <td>109.000000</td>\n",
       "      <td>30.000000</td>\n",
       "      <td>1.000000</td>\n",
       "      <td>25.000000</td>\n",
       "      <td>82.000000</td>\n",
       "    </tr>\n",
       "    <tr>\n",
       "      <th>50%</th>\n",
       "      <td>230.000000</td>\n",
       "      <td>110.000000</td>\n",
       "      <td>1.000000</td>\n",
       "      <td>145.000000</td>\n",
       "      <td>154.000000</td>\n",
       "    </tr>\n",
       "    <tr>\n",
       "      <th>75%</th>\n",
       "      <td>437.500000</td>\n",
       "      <td>120.000000</td>\n",
       "      <td>3.000000</td>\n",
       "      <td>177.000000</td>\n",
       "      <td>252.000000</td>\n",
       "    </tr>\n",
       "    <tr>\n",
       "      <th>max</th>\n",
       "      <td>35190.000000</td>\n",
       "      <td>4010.000000</td>\n",
       "      <td>61.000000</td>\n",
       "      <td>1555.000000</td>\n",
       "      <td>7546.000000</td>\n",
       "    </tr>\n",
       "  </tbody>\n",
       "</table>\n",
       "</div>"
      ],
      "text/plain": [
       "       total_rech_amt_6  max_rech_amt_6  total_rech_data_6  max_rech_data_6  \\\n",
       "count      99999.000000    99999.000000       25153.000000     25153.000000   \n",
       "mean         327.514615      104.637486           2.463802       126.393392   \n",
       "std          398.019701      120.614894           2.789128       108.477235   \n",
       "min            0.000000        0.000000           1.000000         1.000000   \n",
       "25%          109.000000       30.000000           1.000000        25.000000   \n",
       "50%          230.000000      110.000000           1.000000       145.000000   \n",
       "75%          437.500000      120.000000           3.000000       177.000000   \n",
       "max        35190.000000     4010.000000          61.000000      1555.000000   \n",
       "\n",
       "       av_rech_amt_data_6  \n",
       "count        25153.000000  \n",
       "mean           192.600982  \n",
       "std            192.646318  \n",
       "min              1.000000  \n",
       "25%             82.000000  \n",
       "50%            154.000000  \n",
       "75%            252.000000  \n",
       "max           7546.000000  "
      ]
     },
     "execution_count": 6,
     "metadata": {},
     "output_type": "execute_result"
    }
   ],
   "source": [
    "rech_amt_6= ['total_rech_amt_6','max_rech_amt_6','total_rech_data_6','max_rech_data_6','av_rech_amt_data_6']\n",
    "telecom_data.loc[:,rech_amt_6].describe()"
   ]
  },
  {
   "cell_type": "code",
   "execution_count": 7,
   "metadata": {},
   "outputs": [],
   "source": [
    "telecom_data['goodphase_total_avg_rech_amnt'] = (telecom_data['total_rech_amt_6']+ telecom_data['total_rech_amt_7'])/2"
   ]
  },
  {
   "cell_type": "code",
   "execution_count": 8,
   "metadata": {},
   "outputs": [
    {
     "data": {
      "text/plain": [
       "368.5"
      ]
     },
     "execution_count": 8,
     "metadata": {},
     "output_type": "execute_result"
    }
   ],
   "source": [
    "filter_high_valued_cust = np.percentile(telecom_data['goodphase_total_avg_rech_amnt'] ,70)\n",
    "filter_high_valued_cust"
   ]
  },
  {
   "cell_type": "code",
   "execution_count": 9,
   "metadata": {},
   "outputs": [],
   "source": [
    "telecom_data = telecom_data.loc[telecom_data['goodphase_total_avg_rech_amnt'] > filter_high_valued_cust]"
   ]
  },
  {
   "cell_type": "code",
   "execution_count": 10,
   "metadata": {},
   "outputs": [
    {
     "data": {
      "text/plain": [
       "(29979, 227)"
      ]
     },
     "execution_count": 10,
     "metadata": {},
     "output_type": "execute_result"
    }
   ],
   "source": [
    "telecom_data.shape"
   ]
  },
  {
   "cell_type": "code",
   "execution_count": 11,
   "metadata": {},
   "outputs": [],
   "source": [
    "telecom_data['churn']= 0"
   ]
  },
  {
   "cell_type": "code",
   "execution_count": 12,
   "metadata": {},
   "outputs": [],
   "source": [
    "ls_9 = ['total_ic_mou_9', 'total_ic_mou_9', 'vol_2g_mb_9','vol_3g_mb_9']"
   ]
  },
  {
   "cell_type": "code",
   "execution_count": 13,
   "metadata": {},
   "outputs": [],
   "source": [
    "churned_cust = (telecom_data.total_ic_mou_9 == 0) & (telecom_data.total_ic_mou_9 == 0) & (telecom_data.vol_2g_mb_9 ==0)& (telecom_data.vol_3g_mb_9 ==0)"
   ]
  },
  {
   "cell_type": "code",
   "execution_count": 14,
   "metadata": {},
   "outputs": [],
   "source": [
    "telecom_data.loc[churned_cust,'churn']=1"
   ]
  },
  {
   "cell_type": "code",
   "execution_count": 15,
   "metadata": {},
   "outputs": [
    {
     "data": {
      "text/plain": [
       "0    27303\n",
       "1     2676\n",
       "Name: churn, dtype: int64"
      ]
     },
     "execution_count": 15,
     "metadata": {},
     "output_type": "execute_result"
    }
   ],
   "source": [
    "telecom_data['churn'].value_counts()"
   ]
  },
  {
   "cell_type": "code",
   "execution_count": 16,
   "metadata": {},
   "outputs": [
    {
     "data": {
      "text/plain": [
       "<matplotlib.axes._subplots.AxesSubplot at 0x25a63cd5dd8>"
      ]
     },
     "execution_count": 16,
     "metadata": {},
     "output_type": "execute_result"
    },
    {
     "data": {
      "image/png": "[encoded data removed]",
      "text/plain": [
       "<Figure size 432x288 with 1 Axes>"
      ]
     },
     "metadata": {},
     "output_type": "display_data"
    }
   ],
   "source": [
    "sns.boxplot(data=telecom_data, y= \"total_rech_amt_6\", x=\"churn\",hue=\"churn\", linewidth=2.5, showfliers=False)"
   ]
  },
  {
   "cell_type": "code",
   "execution_count": 17,
   "metadata": {},
   "outputs": [
    {
     "data": {
      "text/plain": [
       "<matplotlib.axes._subplots.AxesSubplot at 0x25a029cca90>"
      ]
     },
     "execution_count": 17,
     "metadata": {},
     "output_type": "execute_result"
    },
    {
     "data": {
      "image/png": "[encoded data removed]",
      "text/plain": [
       "<Figure size 432x288 with 1 Axes>"
      ]
     },
     "metadata": {},
     "output_type": "display_data"
    }
   ],
   "source": [
    "sns.boxplot(data=telecom_data, y= \"total_rech_amt_7\", x=\"churn\",hue=\"churn\", linewidth=2.5, showfliers=False)"
   ]
  },
  {
   "cell_type": "code",
   "execution_count": 18,
   "metadata": {},
   "outputs": [
    {
     "data": {
      "text/plain": [
       "<matplotlib.axes._subplots.AxesSubplot at 0x25a02a3d7b8>"
      ]
     },
     "execution_count": 18,
     "metadata": {},
     "output_type": "execute_result"
    },
    {
     "data": {
      "image/png": "[encoded data removed]",
      "text/plain": [
       "<Figure size 432x288 with 1 Axes>"
      ]
     },
     "metadata": {},
     "output_type": "display_data"
    }
   ],
   "source": [
    "sns.boxplot(data=telecom_data, y= \"total_rech_amt_8\", x=\"churn\",hue=\"churn\", linewidth=2.5, showfliers=False)"
   ]
  },
  {
   "cell_type": "code",
   "execution_count": 19,
   "metadata": {},
   "outputs": [
    {
     "data": {
      "text/plain": [
       "<matplotlib.axes._subplots.AxesSubplot at 0x25a02aa5e80>"
      ]
     },
     "execution_count": 19,
     "metadata": {},
     "output_type": "execute_result"
    },
    {
     "data": {
      "image/png": "[encoded data removed]",
      "text/plain": [
       "<Figure size 432x288 with 1 Axes>"
      ]
     },
     "metadata": {},
     "output_type": "display_data"
    }
   ],
   "source": [
    "sns.boxplot(data=telecom_data, y= \"max_rech_amt_6\", x=\"churn\",hue=\"churn\", linewidth=2.5, showfliers=False)"
   ]
  },
  {
   "cell_type": "code",
   "execution_count": 20,
   "metadata": {},
   "outputs": [
    {
     "data": {
      "text/plain": [
       "<matplotlib.axes._subplots.AxesSubplot at 0x25a02b35dd8>"
      ]
     },
     "execution_count": 20,
     "metadata": {},
     "output_type": "execute_result"
    },
    {
     "data": {
      "image/png": "[encoded data removed]",
      "text/plain": [
       "<Figure size 432x288 with 1 Axes>"
      ]
     },
     "metadata": {},
     "output_type": "display_data"
    }
   ],
   "source": [
    "sns.boxplot(data=telecom_data, y= \"max_rech_amt_7\", x=\"churn\",hue=\"churn\", linewidth=2.5, showfliers=False)"
   ]
  },
  {
   "cell_type": "code",
   "execution_count": 21,
   "metadata": {},
   "outputs": [
    {
     "data": {
      "text/plain": [
       "<matplotlib.axes._subplots.AxesSubplot at 0x25a02ba0c50>"
      ]
     },
     "execution_count": 21,
     "metadata": {},
     "output_type": "execute_result"
    },
    {
     "data": {
      "image/png": "[encoded data removed]",
      "text/plain": [
       "<Figure size 432x288 with 1 Axes>"
      ]
     },
     "metadata": {},
     "output_type": "display_data"
    }
   ],
   "source": [
    "sns.boxplot(data=telecom_data, y= \"max_rech_amt_8\", x=\"churn\",hue=\"churn\", linewidth=2.5, showfliers=False)"
   ]
  },
  {
   "cell_type": "code",
   "execution_count": 22,
   "metadata": {},
   "outputs": [
    {
     "data": {
      "text/plain": [
       "<matplotlib.axes._subplots.AxesSubplot at 0x25a02c1a9b0>"
      ]
     },
     "execution_count": 22,
     "metadata": {},
     "output_type": "execute_result"
    },
    {
     "data": {
      "image/png": "[encoded data removed]",
      "text/plain": [
       "<Figure size 432x288 with 1 Axes>"
      ]
     },
     "metadata": {},
     "output_type": "display_data"
    }
   ],
   "source": [
    "sns.boxplot(data=telecom_data, y= \"last_day_rch_amt_6\", x=\"churn\",hue=\"churn\", linewidth=2.5, showfliers=False)"
   ]
  },
  {
   "cell_type": "code",
   "execution_count": 23,
   "metadata": {},
   "outputs": [
    {
     "data": {
      "text/plain": [
       "<matplotlib.axes._subplots.AxesSubplot at 0x25a02c8f198>"
      ]
     },
     "execution_count": 23,
     "metadata": {},
     "output_type": "execute_result"
    },
    {
     "data": {
      "image/png": "[encoded data removed]",
      "text/plain": [
       "<Figure size 432x288 with 1 Axes>"
      ]
     },
     "metadata": {},
     "output_type": "display_data"
    }
   ],
   "source": [
    "sns.boxplot(data=telecom_data, y= \"last_day_rch_amt_7\", x=\"churn\",hue=\"churn\", linewidth=2.5, showfliers=False)"
   ]
  },
  {
   "cell_type": "code",
   "execution_count": 24,
   "metadata": {},
   "outputs": [
    {
     "data": {
      "text/plain": [
       "<matplotlib.axes._subplots.AxesSubplot at 0x25a02d00828>"
      ]
     },
     "execution_count": 24,
     "metadata": {},
     "output_type": "execute_result"
    },
    {
     "data": {
      "image/png": "[encoded data removed]",
      "text/plain": [
       "<Figure size 432x288 with 1 Axes>"
      ]
     },
     "metadata": {},
     "output_type": "display_data"
    }
   ],
   "source": [
    "sns.boxplot(data=telecom_data, y= \"last_day_rch_amt_8\", x=\"churn\",hue=\"churn\", linewidth=2.5, showfliers=False)"
   ]
  },
  {
   "cell_type": "code",
   "execution_count": 25,
   "metadata": {},
   "outputs": [],
   "source": [
    "columns_9= ['last_date_of_month_9', 'arpu_9', 'onnet_mou_9', 'offnet_mou_9',\n",
    "       'roam_ic_mou_9', 'roam_og_mou_9', 'loc_og_t2t_mou_9',\n",
    "       'loc_og_t2m_mou_9', 'loc_og_t2f_mou_9', 'loc_og_t2c_mou_9',\n",
    "       'loc_og_mou_9', 'std_og_t2t_mou_9', 'std_og_t2m_mou_9',\n",
    "       'std_og_t2f_mou_9', 'std_og_t2c_mou_9', 'std_og_mou_9', 'isd_og_mou_9',\n",
    "       'spl_og_mou_9', 'og_others_9', 'total_og_mou_9', 'loc_ic_t2t_mou_9',\n",
    "       'loc_ic_t2m_mou_9', 'loc_ic_t2f_mou_9', 'loc_ic_mou_9',\n",
    "       'std_ic_t2t_mou_9', 'std_ic_t2m_mou_9', 'std_ic_t2f_mou_9',\n",
    "       'std_ic_t2o_mou_9', 'std_ic_mou_9', 'total_ic_mou_9', 'spl_ic_mou_9',\n",
    "       'isd_ic_mou_9', 'ic_others_9', 'total_rech_num_9', 'total_rech_amt_9',\n",
    "       'max_rech_amt_9', 'date_of_last_rech_9', 'last_day_rch_amt_9',\n",
    "       'date_of_last_rech_data_9', 'total_rech_data_9', 'max_rech_data_9',\n",
    "       'count_rech_2g_9', 'count_rech_3g_9', 'av_rech_amt_data_9',\n",
    "       'vol_2g_mb_9', 'vol_3g_mb_9', 'arpu_3g_9', 'arpu_2g_9',\n",
    "       'night_pck_user_9', 'monthly_2g_9', 'sachet_2g_9', 'monthly_3g_9',\n",
    "       'sachet_3g_9', 'fb_user_9']\n",
    "telecom_data.drop(columns_9,axis=1,inplace=True)"
   ]
  },
  {
   "cell_type": "code",
   "execution_count": 26,
   "metadata": {},
   "outputs": [
    {
     "data": {
      "text/plain": [
       "(29979, 174)"
      ]
     },
     "execution_count": 26,
     "metadata": {},
     "output_type": "execute_result"
    }
   ],
   "source": [
    "telecom_data.shape"
   ]
  },
  {
   "cell_type": "code",
   "execution_count": 27,
   "metadata": {},
   "outputs": [
    {
     "data": {
      "text/plain": [
       "8.926248373861704"
      ]
     },
     "execution_count": 27,
     "metadata": {},
     "output_type": "execute_result"
    }
   ],
   "source": [
    "100*telecom_data.churn.sum()/len(churned_cust)"
   ]
  },
  {
   "cell_type": "code",
   "execution_count": 28,
   "metadata": {},
   "outputs": [],
   "source": [
    "from sklearn.decomposition import PCA\n",
    "pca = PCA(svd_solver='randomized', random_state=98)"
   ]
  },
  {
   "cell_type": "code",
   "execution_count": 29,
   "metadata": {},
   "outputs": [
    {
     "data": {
      "text/html": [
       "<div>\n",
       "<style scoped>\n",
       "    .dataframe tbody tr th:only-of-type {\n",
       "        vertical-align: middle;\n",
       "    }\n",
       "\n",
       "    .dataframe tbody tr th {\n",
       "        vertical-align: top;\n",
       "    }\n",
       "\n",
       "    .dataframe thead th {\n",
       "        text-align: right;\n",
       "    }\n",
       "</style>\n",
       "<table border=\"1\" class=\"dataframe\">\n",
       "  <thead>\n",
       "    <tr style=\"text-align: right;\">\n",
       "      <th></th>\n",
       "      <th>mobile_number</th>\n",
       "      <th>circle_id</th>\n",
       "      <th>loc_og_t2o_mou</th>\n",
       "      <th>std_og_t2o_mou</th>\n",
       "      <th>loc_ic_t2o_mou</th>\n",
       "      <th>last_date_of_month_6</th>\n",
       "      <th>last_date_of_month_7</th>\n",
       "      <th>last_date_of_month_8</th>\n",
       "      <th>arpu_6</th>\n",
       "      <th>arpu_7</th>\n",
       "      <th>...</th>\n",
       "      <th>fb_user_6</th>\n",
       "      <th>fb_user_7</th>\n",
       "      <th>fb_user_8</th>\n",
       "      <th>aon</th>\n",
       "      <th>aug_vbc_3g</th>\n",
       "      <th>jul_vbc_3g</th>\n",
       "      <th>jun_vbc_3g</th>\n",
       "      <th>sep_vbc_3g</th>\n",
       "      <th>goodphase_total_avg_rech_amnt</th>\n",
       "      <th>churn</th>\n",
       "    </tr>\n",
       "  </thead>\n",
       "  <tbody>\n",
       "    <tr>\n",
       "      <th>7</th>\n",
       "      <td>7000701601</td>\n",
       "      <td>109</td>\n",
       "      <td>0.0</td>\n",
       "      <td>0.0</td>\n",
       "      <td>0.0</td>\n",
       "      <td>6/30/2014</td>\n",
       "      <td>7/31/2014</td>\n",
       "      <td>8/31/2014</td>\n",
       "      <td>1069.180</td>\n",
       "      <td>1349.850</td>\n",
       "      <td>...</td>\n",
       "      <td>NaN</td>\n",
       "      <td>NaN</td>\n",
       "      <td>NaN</td>\n",
       "      <td>802</td>\n",
       "      <td>57.74</td>\n",
       "      <td>19.38</td>\n",
       "      <td>18.74</td>\n",
       "      <td>0.0</td>\n",
       "      <td>1185.0</td>\n",
       "      <td>1</td>\n",
       "    </tr>\n",
       "    <tr>\n",
       "      <th>8</th>\n",
       "      <td>7001524846</td>\n",
       "      <td>109</td>\n",
       "      <td>0.0</td>\n",
       "      <td>0.0</td>\n",
       "      <td>0.0</td>\n",
       "      <td>6/30/2014</td>\n",
       "      <td>7/31/2014</td>\n",
       "      <td>8/31/2014</td>\n",
       "      <td>378.721</td>\n",
       "      <td>492.223</td>\n",
       "      <td>...</td>\n",
       "      <td>NaN</td>\n",
       "      <td>1.0</td>\n",
       "      <td>1.0</td>\n",
       "      <td>315</td>\n",
       "      <td>21.03</td>\n",
       "      <td>910.65</td>\n",
       "      <td>122.16</td>\n",
       "      <td>0.0</td>\n",
       "      <td>519.0</td>\n",
       "      <td>0</td>\n",
       "    </tr>\n",
       "    <tr>\n",
       "      <th>13</th>\n",
       "      <td>7002191713</td>\n",
       "      <td>109</td>\n",
       "      <td>0.0</td>\n",
       "      <td>0.0</td>\n",
       "      <td>0.0</td>\n",
       "      <td>6/30/2014</td>\n",
       "      <td>7/31/2014</td>\n",
       "      <td>8/31/2014</td>\n",
       "      <td>492.846</td>\n",
       "      <td>205.671</td>\n",
       "      <td>...</td>\n",
       "      <td>NaN</td>\n",
       "      <td>NaN</td>\n",
       "      <td>1.0</td>\n",
       "      <td>2607</td>\n",
       "      <td>0.00</td>\n",
       "      <td>0.00</td>\n",
       "      <td>0.00</td>\n",
       "      <td>0.0</td>\n",
       "      <td>380.0</td>\n",
       "      <td>0</td>\n",
       "    </tr>\n",
       "    <tr>\n",
       "      <th>16</th>\n",
       "      <td>7000875565</td>\n",
       "      <td>109</td>\n",
       "      <td>0.0</td>\n",
       "      <td>0.0</td>\n",
       "      <td>0.0</td>\n",
       "      <td>6/30/2014</td>\n",
       "      <td>7/31/2014</td>\n",
       "      <td>8/31/2014</td>\n",
       "      <td>430.975</td>\n",
       "      <td>299.869</td>\n",
       "      <td>...</td>\n",
       "      <td>NaN</td>\n",
       "      <td>NaN</td>\n",
       "      <td>NaN</td>\n",
       "      <td>511</td>\n",
       "      <td>0.00</td>\n",
       "      <td>2.45</td>\n",
       "      <td>21.89</td>\n",
       "      <td>0.0</td>\n",
       "      <td>459.0</td>\n",
       "      <td>0</td>\n",
       "    </tr>\n",
       "    <tr>\n",
       "      <th>17</th>\n",
       "      <td>7000187447</td>\n",
       "      <td>109</td>\n",
       "      <td>0.0</td>\n",
       "      <td>0.0</td>\n",
       "      <td>0.0</td>\n",
       "      <td>6/30/2014</td>\n",
       "      <td>7/31/2014</td>\n",
       "      <td>8/31/2014</td>\n",
       "      <td>690.008</td>\n",
       "      <td>18.980</td>\n",
       "      <td>...</td>\n",
       "      <td>NaN</td>\n",
       "      <td>NaN</td>\n",
       "      <td>NaN</td>\n",
       "      <td>667</td>\n",
       "      <td>0.00</td>\n",
       "      <td>0.00</td>\n",
       "      <td>0.00</td>\n",
       "      <td>0.0</td>\n",
       "      <td>408.0</td>\n",
       "      <td>0</td>\n",
       "    </tr>\n",
       "  </tbody>\n",
       "</table>\n",
       "<p>5 rows × 174 columns</p>\n",
       "</div>"
      ],
      "text/plain": [
       "    mobile_number  circle_id  loc_og_t2o_mou  std_og_t2o_mou  loc_ic_t2o_mou  \\\n",
       "7      7000701601        109             0.0             0.0             0.0   \n",
       "8      7001524846        109             0.0             0.0             0.0   \n",
       "13     7002191713        109             0.0             0.0             0.0   \n",
       "16     7000875565        109             0.0             0.0             0.0   \n",
       "17     7000187447        109             0.0             0.0             0.0   \n",
       "\n",
       "   last_date_of_month_6 last_date_of_month_7 last_date_of_month_8    arpu_6  \\\n",
       "7             6/30/2014            7/31/2014            8/31/2014  1069.180   \n",
       "8             6/30/2014            7/31/2014            8/31/2014   378.721   \n",
       "13            6/30/2014            7/31/2014            8/31/2014   492.846   \n",
       "16            6/30/2014            7/31/2014            8/31/2014   430.975   \n",
       "17            6/30/2014            7/31/2014            8/31/2014   690.008   \n",
       "\n",
       "      arpu_7  ...    fb_user_6  fb_user_7  fb_user_8   aon  aug_vbc_3g  \\\n",
       "7   1349.850  ...          NaN        NaN        NaN   802       57.74   \n",
       "8    492.223  ...          NaN        1.0        1.0   315       21.03   \n",
       "13   205.671  ...          NaN        NaN        1.0  2607        0.00   \n",
       "16   299.869  ...          NaN        NaN        NaN   511        0.00   \n",
       "17    18.980  ...          NaN        NaN        NaN   667        0.00   \n",
       "\n",
       "    jul_vbc_3g  jun_vbc_3g  sep_vbc_3g  goodphase_total_avg_rech_amnt  churn  \n",
       "7        19.38       18.74         0.0                         1185.0      1  \n",
       "8       910.65      122.16         0.0                          519.0      0  \n",
       "13        0.00        0.00         0.0                          380.0      0  \n",
       "16        2.45       21.89         0.0                          459.0      0  \n",
       "17        0.00        0.00         0.0                          408.0      0  \n",
       "\n",
       "[5 rows x 174 columns]"
      ]
     },
     "execution_count": 29,
     "metadata": {},
     "output_type": "execute_result"
    }
   ],
   "source": [
    "telecom_data.head()"
   ]
  },
  {
   "cell_type": "code",
   "execution_count": 30,
   "metadata": {},
   "outputs": [],
   "source": [
    "telecom_data.drop(['last_date_of_month_6'], axis = 1, inplace = True)\n",
    "telecom_data.drop(['last_date_of_month_7'], axis = 1, inplace = True)\n",
    "telecom_data.drop(['last_date_of_month_8'], axis = 1, inplace = True)\n",
    "telecom_data.drop(['date_of_last_rech_6'], axis = 1, inplace = True)\n",
    "telecom_data.drop(['date_of_last_rech_7'], axis = 1, inplace = True)\n",
    "telecom_data.drop(['date_of_last_rech_8'], axis = 1, inplace = True)\n",
    "telecom_data.drop(['date_of_last_rech_data_6'], axis = 1, inplace = True)\n",
    "telecom_data.drop(['date_of_last_rech_data_7'], axis = 1, inplace = True)\n",
    "telecom_data.drop(['date_of_last_rech_data_8'], axis = 1, inplace = True)\n",
    "telecom_data.drop(['circle_id'], axis = 1, inplace = True)\n",
    "telecom_data.drop(['mobile_number'], axis = 1, inplace = True)"
   ]
  },
  {
   "cell_type": "code",
   "execution_count": 31,
   "metadata": {},
   "outputs": [
    {
     "name": "stdout",
     "output_type": "stream",
     "text": [
      "<class 'pandas.core.frame.DataFrame'>\n",
      "Int64Index: 29979 entries, 7 to 99997\n",
      "Columns: 163 entries, loc_og_t2o_mou to churn\n",
      "dtypes: float64(137), int64(26)\n",
      "memory usage: 38.8 MB\n"
     ]
    }
   ],
   "source": [
    "telecom_data.info()"
   ]
  },
  {
   "cell_type": "code",
   "execution_count": 32,
   "metadata": {},
   "outputs": [],
   "source": [
    "telecom_data.fillna(0, inplace = True)"
   ]
  },
  {
   "cell_type": "code",
   "execution_count": 33,
   "metadata": {},
   "outputs": [
    {
     "data": {
      "text/plain": [
       "PCA(copy=True, iterated_power='auto', n_components=None, random_state=98,\n",
       "  svd_solver='randomized', tol=0.0, whiten=False)"
      ]
     },
     "execution_count": 33,
     "metadata": {},
     "output_type": "execute_result"
    }
   ],
   "source": [
    "pca.fit(telecom_data)"
   ]
  },
  {
   "cell_type": "code",
   "execution_count": 34,
   "metadata": {},
   "outputs": [
    {
     "data": {
      "text/plain": [
       "array([[-7.79166765e-17, -0.00000000e+00,  2.22044605e-16, ...,\n",
       "        -6.99888137e-04,  1.54994436e-01, -2.03868423e-06],\n",
       "       [-6.33566825e-17,  1.11022302e-16,  0.00000000e+00, ...,\n",
       "         5.12764664e-03,  1.66172346e-01, -1.77077655e-05],\n",
       "       [ 1.04710922e-17, -1.80411242e-16, -1.11022302e-16, ...,\n",
       "         6.34748477e-04,  1.17270037e-01, -3.79522386e-05],\n",
       "       ...,\n",
       "       [-0.00000000e+00, -1.79944648e-02,  1.64971410e-02, ...,\n",
       "        -2.33103467e-17, -4.40638310e-04, -9.77307673e-17],\n",
       "       [ 0.00000000e+00, -7.08325792e-01, -3.38231056e-01, ...,\n",
       "        -3.19015647e-15,  2.03805213e-01,  1.49994288e-14],\n",
       "       [-1.00000000e+00, -1.38384519e-25, -5.68014642e-26, ...,\n",
       "        -3.84959835e-15,  5.80794936e-17,  9.82174545e-15]])"
      ]
     },
     "execution_count": 34,
     "metadata": {},
     "output_type": "execute_result"
    }
   ],
   "source": [
    "pca.components_"
   ]
  },
  {
   "cell_type": "code",
   "execution_count": 35,
   "metadata": {},
   "outputs": [
    {
     "data": {
      "text/html": [
       "<div>\n",
       "<style scoped>\n",
       "    .dataframe tbody tr th:only-of-type {\n",
       "        vertical-align: middle;\n",
       "    }\n",
       "\n",
       "    .dataframe tbody tr th {\n",
       "        vertical-align: top;\n",
       "    }\n",
       "\n",
       "    .dataframe thead th {\n",
       "        text-align: right;\n",
       "    }\n",
       "</style>\n",
       "<table border=\"1\" class=\"dataframe\">\n",
       "  <thead>\n",
       "    <tr style=\"text-align: right;\">\n",
       "      <th></th>\n",
       "      <th>PC1</th>\n",
       "      <th>PC2</th>\n",
       "      <th>PC3</th>\n",
       "      <th>PC4</th>\n",
       "      <th>PC5</th>\n",
       "      <th>PC6</th>\n",
       "      <th>PC7</th>\n",
       "      <th>PC8</th>\n",
       "      <th>PC9</th>\n",
       "      <th>Feature</th>\n",
       "    </tr>\n",
       "  </thead>\n",
       "  <tbody>\n",
       "    <tr>\n",
       "      <th>0</th>\n",
       "      <td>-7.791668e-17</td>\n",
       "      <td>-6.335668e-17</td>\n",
       "      <td>1.047109e-17</td>\n",
       "      <td>-4.484415e-20</td>\n",
       "      <td>-1.211853e-19</td>\n",
       "      <td>-8.982827e-19</td>\n",
       "      <td>-3.754226e-19</td>\n",
       "      <td>9.528431e-20</td>\n",
       "      <td>2.725731e-20</td>\n",
       "      <td>loc_og_t2o_mou</td>\n",
       "    </tr>\n",
       "    <tr>\n",
       "      <th>1</th>\n",
       "      <td>-0.000000e+00</td>\n",
       "      <td>1.110223e-16</td>\n",
       "      <td>-1.804112e-16</td>\n",
       "      <td>1.350645e-16</td>\n",
       "      <td>1.080407e-16</td>\n",
       "      <td>1.422473e-16</td>\n",
       "      <td>1.518967e-16</td>\n",
       "      <td>2.385245e-17</td>\n",
       "      <td>5.408814e-17</td>\n",
       "      <td>std_og_t2o_mou</td>\n",
       "    </tr>\n",
       "    <tr>\n",
       "      <th>2</th>\n",
       "      <td>2.220446e-16</td>\n",
       "      <td>0.000000e+00</td>\n",
       "      <td>-1.110223e-16</td>\n",
       "      <td>4.195862e-17</td>\n",
       "      <td>-8.196568e-17</td>\n",
       "      <td>6.418477e-17</td>\n",
       "      <td>-1.240327e-16</td>\n",
       "      <td>-7.209944e-17</td>\n",
       "      <td>8.258910e-17</td>\n",
       "      <td>loc_ic_t2o_mou</td>\n",
       "    </tr>\n",
       "    <tr>\n",
       "      <th>3</th>\n",
       "      <td>1.145874e-01</td>\n",
       "      <td>1.310041e-01</td>\n",
       "      <td>9.327890e-02</td>\n",
       "      <td>6.603532e-02</td>\n",
       "      <td>1.725741e-01</td>\n",
       "      <td>-1.688755e-01</td>\n",
       "      <td>1.954973e-01</td>\n",
       "      <td>-1.261563e-02</td>\n",
       "      <td>1.311683e-01</td>\n",
       "      <td>arpu_6</td>\n",
       "    </tr>\n",
       "    <tr>\n",
       "      <th>4</th>\n",
       "      <td>1.439543e-01</td>\n",
       "      <td>1.515575e-01</td>\n",
       "      <td>9.780990e-02</td>\n",
       "      <td>6.711636e-02</td>\n",
       "      <td>7.284563e-02</td>\n",
       "      <td>6.928609e-02</td>\n",
       "      <td>2.224727e-01</td>\n",
       "      <td>-2.347206e-02</td>\n",
       "      <td>-2.457138e-01</td>\n",
       "      <td>arpu_7</td>\n",
       "    </tr>\n",
       "  </tbody>\n",
       "</table>\n",
       "</div>"
      ],
      "text/plain": [
       "            PC1           PC2           PC3           PC4           PC5  \\\n",
       "0 -7.791668e-17 -6.335668e-17  1.047109e-17 -4.484415e-20 -1.211853e-19   \n",
       "1 -0.000000e+00  1.110223e-16 -1.804112e-16  1.350645e-16  1.080407e-16   \n",
       "2  2.220446e-16  0.000000e+00 -1.110223e-16  4.195862e-17 -8.196568e-17   \n",
       "3  1.145874e-01  1.310041e-01  9.327890e-02  6.603532e-02  1.725741e-01   \n",
       "4  1.439543e-01  1.515575e-01  9.780990e-02  6.711636e-02  7.284563e-02   \n",
       "\n",
       "            PC6           PC7           PC8           PC9         Feature  \n",
       "0 -8.982827e-19 -3.754226e-19  9.528431e-20  2.725731e-20  loc_og_t2o_mou  \n",
       "1  1.422473e-16  1.518967e-16  2.385245e-17  5.408814e-17  std_og_t2o_mou  \n",
       "2  6.418477e-17 -1.240327e-16 -7.209944e-17  8.258910e-17  loc_ic_t2o_mou  \n",
       "3 -1.688755e-01  1.954973e-01 -1.261563e-02  1.311683e-01          arpu_6  \n",
       "4  6.928609e-02  2.224727e-01 -2.347206e-02 -2.457138e-01          arpu_7  "
      ]
     },
     "execution_count": 35,
     "metadata": {},
     "output_type": "execute_result"
    }
   ],
   "source": [
    "pcs=pd.DataFrame({'PC1':pca.components_[0],'PC2':pca.components_[1], 'PC3':pca.components_[2], \n",
    "                           'PC4':pca.components_[3], 'PC5':pca.components_[4],'PC6':pca.components_[5],\n",
    "                           'PC7':pca.components_[6], 'PC8':pca.components_[7], 'PC9':pca.components_[8],\n",
    "                           'Feature':telecom_data.columns }).head()\n",
    "pcs"
   ]
  },
  {
   "cell_type": "code",
   "execution_count": 36,
   "metadata": {},
   "outputs": [
    {
     "data": {
      "text/plain": [
       "array([3.13465167e+06, 2.35355102e+06, 1.38076258e+06, 8.87192948e+05,\n",
       "       7.76706747e+05, 7.05490749e+05, 6.82980132e+05, 4.04578275e+05,\n",
       "       3.23779882e+05, 3.02034047e+05, 2.17852748e+05, 1.93087836e+05,\n",
       "       1.62426164e+05, 1.54867506e+05, 1.40391996e+05, 1.13717898e+05,\n",
       "       9.43232492e+04, 8.46638009e+04, 7.94195898e+04, 6.37498236e+04,\n",
       "       6.31588455e+04, 5.47946712e+04, 5.25438119e+04, 4.62770142e+04,\n",
       "       4.30359576e+04, 3.79092964e+04, 3.60515571e+04, 3.39035912e+04,\n",
       "       3.10216863e+04, 2.90573578e+04, 2.70770233e+04, 2.29146055e+04,\n",
       "       2.11377020e+04, 2.03898998e+04, 1.74867297e+04, 1.46449221e+04,\n",
       "       1.36092579e+04, 1.30361575e+04, 1.15910159e+04, 1.09241350e+04,\n",
       "       1.06856344e+04, 1.04565461e+04, 9.75138520e+03, 9.23032928e+03,\n",
       "       8.66886266e+03, 8.28282934e+03, 8.09848524e+03, 7.24534763e+03,\n",
       "       6.35907978e+03, 6.13732417e+03, 5.77626905e+03, 5.45454999e+03,\n",
       "       5.07725024e+03, 5.07464204e+03, 4.92752401e+03, 4.40248096e+03,\n",
       "       3.14521737e+03, 3.05740184e+03, 2.99992839e+03, 2.67071565e+03,\n",
       "       2.27770365e+03, 2.14158221e+03, 2.10827657e+03, 1.83409584e+03,\n",
       "       1.74440015e+03, 1.58065940e+03, 1.54982221e+03, 1.33600735e+03,\n",
       "       1.30010607e+03, 1.26575691e+03, 1.22069231e+03, 1.14480954e+03,\n",
       "       1.11354383e+03, 8.83218469e+02, 8.32955170e+02, 6.54629935e+02,\n",
       "       5.66142958e+02, 5.60677472e+02, 4.29838945e+02, 3.94062441e+02,\n",
       "       3.19211742e+02, 2.10900807e+02, 1.86634117e+02, 1.82795837e+02,\n",
       "       1.53849459e+02, 1.43893780e+02, 1.30277015e+02, 1.10514586e+02,\n",
       "       9.93790816e+01, 9.16140307e+01, 8.09050222e+01, 7.44559982e+01,\n",
       "       7.19960044e+01, 6.53385626e+01, 4.67221846e+01, 2.88159986e+01,\n",
       "       2.30032872e+01, 2.24638157e+01, 1.80268744e+01, 1.53268896e+01,\n",
       "       1.37865319e+01, 1.23819882e+01, 1.20525747e+01, 4.93732215e+00,\n",
       "       4.16318198e+00, 3.44712248e+00, 3.15290332e+00, 2.06364127e+00,\n",
       "       7.72462549e-01, 4.38636560e-01, 2.62960330e-01, 1.78338513e-01,\n",
       "       1.07031444e-01, 7.23673913e-02, 6.71768973e-02, 6.65629733e-02,\n",
       "       6.48891515e-02, 5.73861177e-02, 5.66534897e-02, 3.92346348e-02,\n",
       "       3.35568015e-02, 2.93783219e-02, 1.52273500e-02, 1.50520876e-02,\n",
       "       5.67468345e-03, 4.15041875e-03, 2.38285953e-05, 1.28075696e-05,\n",
       "       9.28658975e-06, 8.99323815e-06, 8.26252857e-06, 7.63750562e-06,\n",
       "       7.61132883e-06, 7.03334797e-06, 6.94903135e-06, 6.31314529e-06,\n",
       "       5.86345669e-06, 5.50802283e-06, 5.19573370e-06, 5.00088263e-06,\n",
       "       4.96807634e-06, 4.73858550e-06, 4.52318957e-06, 4.37785250e-06,\n",
       "       2.86298883e-26, 2.86298883e-26, 2.86298883e-26, 2.86298883e-26,\n",
       "       2.86298883e-26, 2.86298883e-26, 2.86298883e-26, 2.86298883e-26,\n",
       "       2.86298883e-26, 2.86298883e-26, 2.86298883e-26, 2.86298883e-26,\n",
       "       2.86298883e-26, 2.86298883e-26, 2.86298883e-26, 2.86298883e-26,\n",
       "       2.86298883e-26, 4.77819541e-28, 3.65718173e-28])"
      ]
     },
     "execution_count": 36,
     "metadata": {},
     "output_type": "execute_result"
    }
   ],
   "source": [
    "pca.explained_variance_"
   ]
  },
  {
   "cell_type": "code",
   "execution_count": 37,
   "metadata": {},
   "outputs": [
    {
     "data": {
      "image/png": "[encoded data removed]",
      "text/plain": [
       "<Figure size 864x576 with 1 Axes>"
      ]
     },
     "metadata": {},
     "output_type": "display_data"
    }
   ],
   "source": [
    "fig = plt.figure(figsize = (12,8))\n",
    "plt.plot(np.cumsum(pca.explained_variance_ratio_))\n",
    "plt.xlabel('number of components')\n",
    "plt.ylabel('cumulative explained variance')\n",
    "plt.show()"
   ]
  },
  {
   "cell_type": "code",
   "execution_count": 38,
   "metadata": {},
   "outputs": [],
   "source": [
    "from sklearn.decomposition import IncrementalPCA\n",
    "inc_pca = IncrementalPCA(n_components=10)"
   ]
  },
  {
   "cell_type": "code",
   "execution_count": 39,
   "metadata": {},
   "outputs": [],
   "source": [
    "X_norm_pca= inc_pca.fit_transform(telecom_data)"
   ]
  },
  {
   "cell_type": "code",
   "execution_count": 40,
   "metadata": {},
   "outputs": [
    {
     "data": {
      "text/plain": [
       "(29979, 10)"
      ]
     },
     "execution_count": 40,
     "metadata": {},
     "output_type": "execute_result"
    }
   ],
   "source": [
    "X_norm_pca.shape"
   ]
  },
  {
   "cell_type": "code",
   "execution_count": 41,
   "metadata": {},
   "outputs": [],
   "source": [
    "corrmat = np.corrcoef(X_norm_pca.transpose())"
   ]
  },
  {
   "cell_type": "code",
   "execution_count": 42,
   "metadata": {},
   "outputs": [
    {
     "data": {
      "image/png": "[encoded data removed]",
      "text/plain": [
       "<Figure size 576x576 with 1 Axes>"
      ]
     },
     "metadata": {},
     "output_type": "display_data"
    }
   ],
   "source": [
    "%matplotlib inline\n",
    "fig = plt.figure(figsize = (8,8))\n",
    "plt.scatter(pcs.PC1, pcs.PC2)\n",
    "plt.xlabel('Principal Component 1')\n",
    "plt.ylabel('Principal Component 2')\n",
    "for i, txt in enumerate(pcs.Feature):\n",
    "    plt.annotate(txt, (pcs.PC1[i],pcs.PC2[i]))\n",
    "plt.tight_layout()\n",
    "plt.show()"
   ]
  },
  {
   "cell_type": "code",
   "execution_count": 43,
   "metadata": {},
   "outputs": [
    {
     "data": {
      "text/plain": [
       "<matplotlib.axes._subplots.AxesSubplot at 0x25a0038bb00>"
      ]
     },
     "execution_count": 43,
     "metadata": {},
     "output_type": "execute_result"
    },
    {
     "data": {
      "image/png": "[encoded data removed]",
      "text/plain": [
       "<Figure size 1440x720 with 2 Axes>"
      ]
     },
     "metadata": {},
     "output_type": "display_data"
    }
   ],
   "source": [
    "%matplotlib inline\n",
    "plt.figure(figsize = (20,10))\n",
    "sns.heatmap(corrmat,annot = True)"
   ]
  },
  {
   "cell_type": "code",
   "execution_count": 44,
   "metadata": {},
   "outputs": [
    {
     "name": "stdout",
     "output_type": "stream",
     "text": [
      "max corr: 0.0016592130667518962 , min corr:  -0.005702993488415056\n"
     ]
    }
   ],
   "source": [
    "corrmat_nodiag = corrmat - np.diagflat(corrmat.diagonal())\n",
    "print(\"max corr:\",corrmat_nodiag.max(), \", min corr: \", corrmat_nodiag.min(),)"
   ]
  },
  {
   "cell_type": "code",
   "execution_count": 45,
   "metadata": {},
   "outputs": [],
   "source": [
    "train_df = pd.DataFrame(X_norm_pca, columns=['PC1', 'PC2', 'PC3', 'PC4', 'PC5', 'PC6', 'PC7', 'PC8', 'PC9', 'PC10'])"
   ]
  },
  {
   "cell_type": "code",
   "execution_count": 46,
   "metadata": {},
   "outputs": [],
   "source": [
    "from sklearn.svm import SVC\n",
    "from sklearn.model_selection import train_test_split\n",
    "from sklearn import metrics"
   ]
  },
  {
   "cell_type": "code",
   "execution_count": 47,
   "metadata": {},
   "outputs": [],
   "source": [
    "X = train_df\n",
    "y = telecom_data['churn']\n",
    "\n",
    "# Splitting the data into train and test\n",
    "X_train, X_test, y_train, y_test = train_test_split(X, y, test_size=0.30, random_state=101)"
   ]
  },
  {
   "cell_type": "code",
   "execution_count": 48,
   "metadata": {},
   "outputs": [],
   "source": [
    "# Importing random forest classifier from sklearn library\n",
    "from sklearn.ensemble import RandomForestClassifier\n",
    "\n",
    "# Running the random forest with default parameters.\n",
    "rfc = RandomForestClassifier()"
   ]
  },
  {
   "cell_type": "code",
   "execution_count": 49,
   "metadata": {},
   "outputs": [
    {
     "data": {
      "text/plain": [
       "RandomForestClassifier(bootstrap=True, class_weight=None, criterion='gini',\n",
       "            max_depth=None, max_features='auto', max_leaf_nodes=None,\n",
       "            min_impurity_decrease=0.0, min_impurity_split=None,\n",
       "            min_samples_leaf=1, min_samples_split=2,\n",
       "            min_weight_fraction_leaf=0.0, n_estimators=10, n_jobs=1,\n",
       "            oob_score=False, random_state=None, verbose=0,\n",
       "            warm_start=False)"
      ]
     },
     "execution_count": 49,
     "metadata": {},
     "output_type": "execute_result"
    }
   ],
   "source": [
    "# fit\n",
    "rfc.fit(X_train,y_train)"
   ]
  },
  {
   "cell_type": "code",
   "execution_count": 50,
   "metadata": {},
   "outputs": [],
   "source": [
    "# Making predictions\n",
    "predictions = rfc.predict(X_test)"
   ]
  },
  {
   "cell_type": "code",
   "execution_count": 51,
   "metadata": {},
   "outputs": [],
   "source": [
    "# Importing classification report and confusion matrix from sklearn metrics\n",
    "from sklearn.metrics import classification_report,confusion_matrix, accuracy_score"
   ]
  },
  {
   "cell_type": "code",
   "execution_count": 52,
   "metadata": {},
   "outputs": [
    {
     "name": "stdout",
     "output_type": "stream",
     "text": [
      "             precision    recall  f1-score   support\n",
      "\n",
      "          0       0.93      0.99      0.96      8177\n",
      "          1       0.61      0.21      0.31       817\n",
      "\n",
      "avg / total       0.90      0.92      0.90      8994\n",
      "\n"
     ]
    }
   ],
   "source": [
    "# Let's check the report of our default model\n",
    "print(classification_report(y_test,predictions))"
   ]
  },
  {
   "cell_type": "code",
   "execution_count": 53,
   "metadata": {},
   "outputs": [
    {
     "name": "stdout",
     "output_type": "stream",
     "text": [
      "[[8070  107]\n",
      " [ 647  170]]\n"
     ]
    }
   ],
   "source": [
    "# Printing confusion matrix\n",
    "print(confusion_matrix(y_test,predictions))"
   ]
  },
  {
   "cell_type": "code",
   "execution_count": 54,
   "metadata": {},
   "outputs": [
    {
     "name": "stdout",
     "output_type": "stream",
     "text": [
      "0.9161663331109628\n"
     ]
    }
   ],
   "source": [
    "print(accuracy_score(y_test,predictions))"
   ]
  },
  {
   "cell_type": "code",
   "execution_count": 55,
   "metadata": {},
   "outputs": [
    {
     "data": {
      "text/plain": [
       "GridSearchCV(cv=7, error_score='raise',\n",
       "       estimator=RandomForestClassifier(bootstrap=True, class_weight={0: 0.05, 1: 0.95},\n",
       "            criterion='gini', max_depth=None, max_features='auto',\n",
       "            max_leaf_nodes=None, min_impurity_decrease=0.0,\n",
       "            min_impurity_split=None, min_samples_leaf=1,\n",
       "            min_samples_split=2, min_weight_fraction_leaf=0.0,\n",
       "            n_estimators=10, n_jobs=1, oob_score=False, random_state=None,\n",
       "            verbose=0, warm_start=False),\n",
       "       fit_params=None, iid=True, n_jobs=1,\n",
       "       param_grid={'max_depth': range(2, 20, 5)}, pre_dispatch='2*n_jobs',\n",
       "       refit=True, return_train_score='warn', scoring='accuracy',\n",
       "       verbose=0)"
      ]
     },
     "execution_count": 55,
     "metadata": {},
     "output_type": "execute_result"
    }
   ],
   "source": [
    "from sklearn.model_selection import KFold\n",
    "from sklearn.model_selection import GridSearchCV\n",
    "\n",
    "\n",
    "# specify number of folds for k-fold CV\n",
    "n_folds = 7\n",
    "\n",
    "# parameters to build the model on\n",
    "parameters = {'max_depth': range(2, 20, 5)}\n",
    "\n",
    "# instantiate the model\n",
    "rf = RandomForestClassifier(class_weight={0:0.05 , 1:0.95})\n",
    "\n",
    "\n",
    "# fit tree on training data\n",
    "rf = GridSearchCV(rf, parameters, \n",
    "                    cv=n_folds, \n",
    "                   scoring=\"accuracy\")\n",
    "rf.fit(X_train, y_train)"
   ]
  },
  {
   "cell_type": "code",
   "execution_count": 56,
   "metadata": {},
   "outputs": [
    {
     "data": {
      "text/html": [
       "<div>\n",
       "<style scoped>\n",
       "    .dataframe tbody tr th:only-of-type {\n",
       "        vertical-align: middle;\n",
       "    }\n",
       "\n",
       "    .dataframe tbody tr th {\n",
       "        vertical-align: top;\n",
       "    }\n",
       "\n",
       "    .dataframe thead th {\n",
       "        text-align: right;\n",
       "    }\n",
       "</style>\n",
       "<table border=\"1\" class=\"dataframe\">\n",
       "  <thead>\n",
       "    <tr style=\"text-align: right;\">\n",
       "      <th></th>\n",
       "      <th>mean_fit_time</th>\n",
       "      <th>std_fit_time</th>\n",
       "      <th>mean_score_time</th>\n",
       "      <th>std_score_time</th>\n",
       "      <th>param_max_depth</th>\n",
       "      <th>params</th>\n",
       "      <th>split0_test_score</th>\n",
       "      <th>split1_test_score</th>\n",
       "      <th>split2_test_score</th>\n",
       "      <th>split3_test_score</th>\n",
       "      <th>...</th>\n",
       "      <th>rank_test_score</th>\n",
       "      <th>split0_train_score</th>\n",
       "      <th>split1_train_score</th>\n",
       "      <th>split2_train_score</th>\n",
       "      <th>split3_train_score</th>\n",
       "      <th>split4_train_score</th>\n",
       "      <th>split5_train_score</th>\n",
       "      <th>split6_train_score</th>\n",
       "      <th>mean_train_score</th>\n",
       "      <th>std_train_score</th>\n",
       "    </tr>\n",
       "  </thead>\n",
       "  <tbody>\n",
       "    <tr>\n",
       "      <th>0</th>\n",
       "      <td>0.181829</td>\n",
       "      <td>0.030186</td>\n",
       "      <td>0.007135</td>\n",
       "      <td>0.007429</td>\n",
       "      <td>2</td>\n",
       "      <td>{'max_depth': 2}</td>\n",
       "      <td>0.421807</td>\n",
       "      <td>0.428810</td>\n",
       "      <td>0.505337</td>\n",
       "      <td>0.467312</td>\n",
       "      <td>...</td>\n",
       "      <td>4</td>\n",
       "      <td>0.402535</td>\n",
       "      <td>0.431169</td>\n",
       "      <td>0.517207</td>\n",
       "      <td>0.462278</td>\n",
       "      <td>0.409829</td>\n",
       "      <td>0.423115</td>\n",
       "      <td>0.486213</td>\n",
       "      <td>0.447478</td>\n",
       "      <td>0.039422</td>\n",
       "    </tr>\n",
       "    <tr>\n",
       "      <th>1</th>\n",
       "      <td>0.441793</td>\n",
       "      <td>0.092655</td>\n",
       "      <td>0.005007</td>\n",
       "      <td>0.002867</td>\n",
       "      <td>7</td>\n",
       "      <td>{'max_depth': 7}</td>\n",
       "      <td>0.761587</td>\n",
       "      <td>0.768590</td>\n",
       "      <td>0.768179</td>\n",
       "      <td>0.788192</td>\n",
       "      <td>...</td>\n",
       "      <td>3</td>\n",
       "      <td>0.785778</td>\n",
       "      <td>0.789503</td>\n",
       "      <td>0.787068</td>\n",
       "      <td>0.806861</td>\n",
       "      <td>0.792362</td>\n",
       "      <td>0.789026</td>\n",
       "      <td>0.787136</td>\n",
       "      <td>0.791105</td>\n",
       "      <td>0.006731</td>\n",
       "    </tr>\n",
       "    <tr>\n",
       "      <th>2</th>\n",
       "      <td>0.629944</td>\n",
       "      <td>0.111935</td>\n",
       "      <td>0.010950</td>\n",
       "      <td>0.003978</td>\n",
       "      <td>12</td>\n",
       "      <td>{'max_depth': 12}</td>\n",
       "      <td>0.881627</td>\n",
       "      <td>0.875292</td>\n",
       "      <td>0.883256</td>\n",
       "      <td>0.892929</td>\n",
       "      <td>...</td>\n",
       "      <td>2</td>\n",
       "      <td>0.927277</td>\n",
       "      <td>0.929167</td>\n",
       "      <td>0.932173</td>\n",
       "      <td>0.924723</td>\n",
       "      <td>0.930454</td>\n",
       "      <td>0.925839</td>\n",
       "      <td>0.920669</td>\n",
       "      <td>0.927186</td>\n",
       "      <td>0.003582</td>\n",
       "    </tr>\n",
       "    <tr>\n",
       "      <th>3</th>\n",
       "      <td>0.799146</td>\n",
       "      <td>0.017734</td>\n",
       "      <td>0.013859</td>\n",
       "      <td>0.005767</td>\n",
       "      <td>17</td>\n",
       "      <td>{'max_depth': 17}</td>\n",
       "      <td>0.912638</td>\n",
       "      <td>0.902301</td>\n",
       "      <td>0.905604</td>\n",
       "      <td>0.910941</td>\n",
       "      <td>...</td>\n",
       "      <td>1</td>\n",
       "      <td>0.971255</td>\n",
       "      <td>0.974536</td>\n",
       "      <td>0.974037</td>\n",
       "      <td>0.971313</td>\n",
       "      <td>0.974983</td>\n",
       "      <td>0.971759</td>\n",
       "      <td>0.974372</td>\n",
       "      <td>0.973179</td>\n",
       "      <td>0.001533</td>\n",
       "    </tr>\n",
       "  </tbody>\n",
       "</table>\n",
       "<p>4 rows × 25 columns</p>\n",
       "</div>"
      ],
      "text/plain": [
       "   mean_fit_time  std_fit_time  mean_score_time  std_score_time  \\\n",
       "0       0.181829      0.030186         0.007135        0.007429   \n",
       "1       0.441793      0.092655         0.005007        0.002867   \n",
       "2       0.629944      0.111935         0.010950        0.003978   \n",
       "3       0.799146      0.017734         0.013859        0.005767   \n",
       "\n",
       "  param_max_depth             params  split0_test_score  split1_test_score  \\\n",
       "0               2   {'max_depth': 2}           0.421807           0.428810   \n",
       "1               7   {'max_depth': 7}           0.761587           0.768590   \n",
       "2              12  {'max_depth': 12}           0.881627           0.875292   \n",
       "3              17  {'max_depth': 17}           0.912638           0.902301   \n",
       "\n",
       "   split2_test_score  split3_test_score       ...         rank_test_score  \\\n",
       "0           0.505337           0.467312       ...                       4   \n",
       "1           0.768179           0.788192       ...                       3   \n",
       "2           0.883256           0.892929       ...                       2   \n",
       "3           0.905604           0.910941       ...                       1   \n",
       "\n",
       "   split0_train_score  split1_train_score  split2_train_score  \\\n",
       "0            0.402535            0.431169            0.517207   \n",
       "1            0.785778            0.789503            0.787068   \n",
       "2            0.927277            0.929167            0.932173   \n",
       "3            0.971255            0.974536            0.974037   \n",
       "\n",
       "   split3_train_score  split4_train_score  split5_train_score  \\\n",
       "0            0.462278            0.409829            0.423115   \n",
       "1            0.806861            0.792362            0.789026   \n",
       "2            0.924723            0.930454            0.925839   \n",
       "3            0.971313            0.974983            0.971759   \n",
       "\n",
       "   split6_train_score  mean_train_score  std_train_score  \n",
       "0            0.486213          0.447478         0.039422  \n",
       "1            0.787136          0.791105         0.006731  \n",
       "2            0.920669          0.927186         0.003582  \n",
       "3            0.974372          0.973179         0.001533  \n",
       "\n",
       "[4 rows x 25 columns]"
      ]
     },
     "execution_count": 56,
     "metadata": {},
     "output_type": "execute_result"
    }
   ],
   "source": [
    "# scores of GridSearch CV\n",
    "scores = rf.cv_results_\n",
    "pd.DataFrame(scores).head()"
   ]
  },
  {
   "cell_type": "code",
   "execution_count": 57,
   "metadata": {},
   "outputs": [
    {
     "data": {
      "image/png": "[encoded data removed]",
      "text/plain": [
       "<Figure size 432x288 with 1 Axes>"
      ]
     },
     "metadata": {},
     "output_type": "display_data"
    }
   ],
   "source": [
    "plt.figure()\n",
    "plt.plot(scores[\"param_max_depth\"], \n",
    "         scores[\"mean_train_score\"], \n",
    "         label=\"training accuracy\")\n",
    "plt.plot(scores[\"param_max_depth\"], \n",
    "         scores[\"mean_test_score\"], \n",
    "         label=\"test accuracy\")\n",
    "plt.xlabel(\"max_depth\")\n",
    "plt.ylabel(\"Accuracy\")\n",
    "plt.legend()\n",
    "plt.show()"
   ]
  },
  {
   "cell_type": "code",
   "execution_count": 58,
   "metadata": {},
   "outputs": [
    {
     "data": {
      "text/plain": [
       "RandomForestClassifier(bootstrap=True, class_weight={0: 0.05, 1: 0.95},\n",
       "            criterion='gini', max_depth=17, max_features='auto',\n",
       "            max_leaf_nodes=None, min_impurity_decrease=0.0,\n",
       "            min_impurity_split=None, min_samples_leaf=1,\n",
       "            min_samples_split=2, min_weight_fraction_leaf=0.0,\n",
       "            n_estimators=10, n_jobs=1, oob_score=False, random_state=None,\n",
       "            verbose=0, warm_start=False)"
      ]
     },
     "execution_count": 58,
     "metadata": {},
     "output_type": "execute_result"
    }
   ],
   "source": [
    "rf.best_estimator_"
   ]
  },
  {
   "cell_type": "code",
   "execution_count": 59,
   "metadata": {},
   "outputs": [
    {
     "data": {
      "text/html": [
       "<div>\n",
       "<style scoped>\n",
       "    .dataframe tbody tr th:only-of-type {\n",
       "        vertical-align: middle;\n",
       "    }\n",
       "\n",
       "    .dataframe tbody tr th {\n",
       "        vertical-align: top;\n",
       "    }\n",
       "\n",
       "    .dataframe thead th {\n",
       "        text-align: right;\n",
       "    }\n",
       "</style>\n",
       "<table border=\"1\" class=\"dataframe\">\n",
       "  <thead>\n",
       "    <tr style=\"text-align: right;\">\n",
       "      <th></th>\n",
       "      <th>mean_fit_time</th>\n",
       "      <th>std_fit_time</th>\n",
       "      <th>mean_score_time</th>\n",
       "      <th>std_score_time</th>\n",
       "      <th>param_max_depth</th>\n",
       "      <th>params</th>\n",
       "      <th>split0_test_score</th>\n",
       "      <th>split1_test_score</th>\n",
       "      <th>split2_test_score</th>\n",
       "      <th>split3_test_score</th>\n",
       "      <th>...</th>\n",
       "      <th>rank_test_score</th>\n",
       "      <th>split0_train_score</th>\n",
       "      <th>split1_train_score</th>\n",
       "      <th>split2_train_score</th>\n",
       "      <th>split3_train_score</th>\n",
       "      <th>split4_train_score</th>\n",
       "      <th>split5_train_score</th>\n",
       "      <th>split6_train_score</th>\n",
       "      <th>mean_train_score</th>\n",
       "      <th>std_train_score</th>\n",
       "    </tr>\n",
       "  </thead>\n",
       "  <tbody>\n",
       "    <tr>\n",
       "      <th>0</th>\n",
       "      <td>0.181829</td>\n",
       "      <td>0.030186</td>\n",
       "      <td>0.007135</td>\n",
       "      <td>0.007429</td>\n",
       "      <td>2</td>\n",
       "      <td>{'max_depth': 2}</td>\n",
       "      <td>0.421807</td>\n",
       "      <td>0.428810</td>\n",
       "      <td>0.505337</td>\n",
       "      <td>0.467312</td>\n",
       "      <td>...</td>\n",
       "      <td>4</td>\n",
       "      <td>0.402535</td>\n",
       "      <td>0.431169</td>\n",
       "      <td>0.517207</td>\n",
       "      <td>0.462278</td>\n",
       "      <td>0.409829</td>\n",
       "      <td>0.423115</td>\n",
       "      <td>0.486213</td>\n",
       "      <td>0.447478</td>\n",
       "      <td>0.039422</td>\n",
       "    </tr>\n",
       "    <tr>\n",
       "      <th>1</th>\n",
       "      <td>0.441793</td>\n",
       "      <td>0.092655</td>\n",
       "      <td>0.005007</td>\n",
       "      <td>0.002867</td>\n",
       "      <td>7</td>\n",
       "      <td>{'max_depth': 7}</td>\n",
       "      <td>0.761587</td>\n",
       "      <td>0.768590</td>\n",
       "      <td>0.768179</td>\n",
       "      <td>0.788192</td>\n",
       "      <td>...</td>\n",
       "      <td>3</td>\n",
       "      <td>0.785778</td>\n",
       "      <td>0.789503</td>\n",
       "      <td>0.787068</td>\n",
       "      <td>0.806861</td>\n",
       "      <td>0.792362</td>\n",
       "      <td>0.789026</td>\n",
       "      <td>0.787136</td>\n",
       "      <td>0.791105</td>\n",
       "      <td>0.006731</td>\n",
       "    </tr>\n",
       "    <tr>\n",
       "      <th>2</th>\n",
       "      <td>0.629944</td>\n",
       "      <td>0.111935</td>\n",
       "      <td>0.010950</td>\n",
       "      <td>0.003978</td>\n",
       "      <td>12</td>\n",
       "      <td>{'max_depth': 12}</td>\n",
       "      <td>0.881627</td>\n",
       "      <td>0.875292</td>\n",
       "      <td>0.883256</td>\n",
       "      <td>0.892929</td>\n",
       "      <td>...</td>\n",
       "      <td>2</td>\n",
       "      <td>0.927277</td>\n",
       "      <td>0.929167</td>\n",
       "      <td>0.932173</td>\n",
       "      <td>0.924723</td>\n",
       "      <td>0.930454</td>\n",
       "      <td>0.925839</td>\n",
       "      <td>0.920669</td>\n",
       "      <td>0.927186</td>\n",
       "      <td>0.003582</td>\n",
       "    </tr>\n",
       "    <tr>\n",
       "      <th>3</th>\n",
       "      <td>0.799146</td>\n",
       "      <td>0.017734</td>\n",
       "      <td>0.013859</td>\n",
       "      <td>0.005767</td>\n",
       "      <td>17</td>\n",
       "      <td>{'max_depth': 17}</td>\n",
       "      <td>0.912638</td>\n",
       "      <td>0.902301</td>\n",
       "      <td>0.905604</td>\n",
       "      <td>0.910941</td>\n",
       "      <td>...</td>\n",
       "      <td>1</td>\n",
       "      <td>0.971255</td>\n",
       "      <td>0.974536</td>\n",
       "      <td>0.974037</td>\n",
       "      <td>0.971313</td>\n",
       "      <td>0.974983</td>\n",
       "      <td>0.971759</td>\n",
       "      <td>0.974372</td>\n",
       "      <td>0.973179</td>\n",
       "      <td>0.001533</td>\n",
       "    </tr>\n",
       "  </tbody>\n",
       "</table>\n",
       "<p>4 rows × 25 columns</p>\n",
       "</div>"
      ],
      "text/plain": [
       "   mean_fit_time  std_fit_time  mean_score_time  std_score_time  \\\n",
       "0       0.181829      0.030186         0.007135        0.007429   \n",
       "1       0.441793      0.092655         0.005007        0.002867   \n",
       "2       0.629944      0.111935         0.010950        0.003978   \n",
       "3       0.799146      0.017734         0.013859        0.005767   \n",
       "\n",
       "  param_max_depth             params  split0_test_score  split1_test_score  \\\n",
       "0               2   {'max_depth': 2}           0.421807           0.428810   \n",
       "1               7   {'max_depth': 7}           0.761587           0.768590   \n",
       "2              12  {'max_depth': 12}           0.881627           0.875292   \n",
       "3              17  {'max_depth': 17}           0.912638           0.902301   \n",
       "\n",
       "   split2_test_score  split3_test_score       ...         rank_test_score  \\\n",
       "0           0.505337           0.467312       ...                       4   \n",
       "1           0.768179           0.788192       ...                       3   \n",
       "2           0.883256           0.892929       ...                       2   \n",
       "3           0.905604           0.910941       ...                       1   \n",
       "\n",
       "   split0_train_score  split1_train_score  split2_train_score  \\\n",
       "0            0.402535            0.431169            0.517207   \n",
       "1            0.785778            0.789503            0.787068   \n",
       "2            0.927277            0.929167            0.932173   \n",
       "3            0.971255            0.974536            0.974037   \n",
       "\n",
       "   split3_train_score  split4_train_score  split5_train_score  \\\n",
       "0            0.462278            0.409829            0.423115   \n",
       "1            0.806861            0.792362            0.789026   \n",
       "2            0.924723            0.930454            0.925839   \n",
       "3            0.971313            0.974983            0.971759   \n",
       "\n",
       "   split6_train_score  mean_train_score  std_train_score  \n",
       "0            0.486213          0.447478         0.039422  \n",
       "1            0.787136          0.791105         0.006731  \n",
       "2            0.920669          0.927186         0.003582  \n",
       "3            0.974372          0.973179         0.001533  \n",
       "\n",
       "[4 rows x 25 columns]"
      ]
     },
     "execution_count": 59,
     "metadata": {},
     "output_type": "execute_result"
    }
   ],
   "source": [
    "scores = rf.cv_results_\n",
    "pd.DataFrame(scores).head()"
   ]
  },
  {
   "cell_type": "code",
   "execution_count": 60,
   "metadata": {},
   "outputs": [
    {
     "name": "stdout",
     "output_type": "stream",
     "text": [
      "Fitting 7 folds for each of 9 candidates, totalling 63 fits\n"
     ]
    },
    {
     "name": "stderr",
     "output_type": "stream",
     "text": [
      "[Parallel(n_jobs=-1)]: Done  42 tasks      | elapsed:  2.0min\n",
      "[Parallel(n_jobs=-1)]: Done  63 out of  63 | elapsed:  4.0min finished\n"
     ]
    },
    {
     "data": {
      "text/plain": [
       "GridSearchCV(cv=7, error_score='raise',\n",
       "       estimator=RandomForestClassifier(bootstrap=True, class_weight=None, criterion='gini',\n",
       "            max_depth=4, max_features='auto', max_leaf_nodes=None,\n",
       "            min_impurity_decrease=0.0, min_impurity_split=None,\n",
       "            min_samples_leaf=1, min_samples_split=2,\n",
       "            min_weight_fraction_leaf=0.0, n_estimators=10, n_jobs=1,\n",
       "            oob_score=False, random_state=None, verbose=0,\n",
       "            warm_start=False),\n",
       "       fit_params=None, iid=True, n_jobs=-1,\n",
       "       param_grid={'n_estimators': range(50, 500, 50)},\n",
       "       pre_dispatch='2*n_jobs', refit=True, return_train_score='warn',\n",
       "       scoring='accuracy', verbose=1)"
      ]
     },
     "execution_count": 60,
     "metadata": {},
     "output_type": "execute_result"
    }
   ],
   "source": [
    "# GridSearchCV to find optimal n_estimators\n",
    "from sklearn.model_selection import KFold\n",
    "from sklearn.model_selection import GridSearchCV\n",
    "\n",
    "\n",
    "# specify number of folds for k-fold CV\n",
    "n_folds = 7\n",
    "\n",
    "# parameters to build the model on\n",
    "parameters = {'n_estimators': range(50, 500, 50)}\n",
    "\n",
    "# instantiate the model (note we are specifying a max_depth)\n",
    "rf = RandomForestClassifier(max_depth=4)\n",
    "\n",
    "\n",
    "# fit tree on training data\n",
    "rf = GridSearchCV(rf, parameters, \n",
    "                    cv=n_folds, \n",
    "                   scoring=\"accuracy\",\n",
    "                n_jobs = -1,verbose = 1 )\n",
    "rf.fit(X_train, y_train)"
   ]
  },
  {
   "cell_type": "code",
   "execution_count": 61,
   "metadata": {},
   "outputs": [
    {
     "data": {
      "text/html": [
       "<div>\n",
       "<style scoped>\n",
       "    .dataframe tbody tr th:only-of-type {\n",
       "        vertical-align: middle;\n",
       "    }\n",
       "\n",
       "    .dataframe tbody tr th {\n",
       "        vertical-align: top;\n",
       "    }\n",
       "\n",
       "    .dataframe thead th {\n",
       "        text-align: right;\n",
       "    }\n",
       "</style>\n",
       "<table border=\"1\" class=\"dataframe\">\n",
       "  <thead>\n",
       "    <tr style=\"text-align: right;\">\n",
       "      <th></th>\n",
       "      <th>mean_fit_time</th>\n",
       "      <th>std_fit_time</th>\n",
       "      <th>mean_score_time</th>\n",
       "      <th>std_score_time</th>\n",
       "      <th>param_n_estimators</th>\n",
       "      <th>params</th>\n",
       "      <th>split0_test_score</th>\n",
       "      <th>split1_test_score</th>\n",
       "      <th>split2_test_score</th>\n",
       "      <th>split3_test_score</th>\n",
       "      <th>...</th>\n",
       "      <th>rank_test_score</th>\n",
       "      <th>split0_train_score</th>\n",
       "      <th>split1_train_score</th>\n",
       "      <th>split2_train_score</th>\n",
       "      <th>split3_train_score</th>\n",
       "      <th>split4_train_score</th>\n",
       "      <th>split5_train_score</th>\n",
       "      <th>split6_train_score</th>\n",
       "      <th>mean_train_score</th>\n",
       "      <th>std_train_score</th>\n",
       "    </tr>\n",
       "  </thead>\n",
       "  <tbody>\n",
       "    <tr>\n",
       "      <th>0</th>\n",
       "      <td>2.347280</td>\n",
       "      <td>0.592067</td>\n",
       "      <td>0.033563</td>\n",
       "      <td>0.006272</td>\n",
       "      <td>50</td>\n",
       "      <td>{'n_estimators': 50}</td>\n",
       "      <td>0.912638</td>\n",
       "      <td>0.912971</td>\n",
       "      <td>0.911941</td>\n",
       "      <td>0.912275</td>\n",
       "      <td>...</td>\n",
       "      <td>6</td>\n",
       "      <td>0.913433</td>\n",
       "      <td>0.914433</td>\n",
       "      <td>0.912326</td>\n",
       "      <td>0.914327</td>\n",
       "      <td>0.912664</td>\n",
       "      <td>0.912886</td>\n",
       "      <td>0.913442</td>\n",
       "      <td>0.913359</td>\n",
       "      <td>0.000744</td>\n",
       "    </tr>\n",
       "    <tr>\n",
       "      <th>1</th>\n",
       "      <td>5.720414</td>\n",
       "      <td>0.045846</td>\n",
       "      <td>0.072944</td>\n",
       "      <td>0.010292</td>\n",
       "      <td>100</td>\n",
       "      <td>{'n_estimators': 100}</td>\n",
       "      <td>0.912304</td>\n",
       "      <td>0.911304</td>\n",
       "      <td>0.912608</td>\n",
       "      <td>0.912275</td>\n",
       "      <td>...</td>\n",
       "      <td>3</td>\n",
       "      <td>0.913210</td>\n",
       "      <td>0.914100</td>\n",
       "      <td>0.913215</td>\n",
       "      <td>0.913938</td>\n",
       "      <td>0.913220</td>\n",
       "      <td>0.912886</td>\n",
       "      <td>0.913776</td>\n",
       "      <td>0.913478</td>\n",
       "      <td>0.000422</td>\n",
       "    </tr>\n",
       "    <tr>\n",
       "      <th>2</th>\n",
       "      <td>8.531931</td>\n",
       "      <td>0.090363</td>\n",
       "      <td>0.095039</td>\n",
       "      <td>0.014902</td>\n",
       "      <td>150</td>\n",
       "      <td>{'n_estimators': 150}</td>\n",
       "      <td>0.911637</td>\n",
       "      <td>0.911304</td>\n",
       "      <td>0.912275</td>\n",
       "      <td>0.912275</td>\n",
       "      <td>...</td>\n",
       "      <td>8</td>\n",
       "      <td>0.914433</td>\n",
       "      <td>0.915045</td>\n",
       "      <td>0.912548</td>\n",
       "      <td>0.913660</td>\n",
       "      <td>0.913943</td>\n",
       "      <td>0.913387</td>\n",
       "      <td>0.913943</td>\n",
       "      <td>0.913851</td>\n",
       "      <td>0.000730</td>\n",
       "    </tr>\n",
       "    <tr>\n",
       "      <th>3</th>\n",
       "      <td>11.308297</td>\n",
       "      <td>0.073404</td>\n",
       "      <td>0.133880</td>\n",
       "      <td>0.011863</td>\n",
       "      <td>200</td>\n",
       "      <td>{'n_estimators': 200}</td>\n",
       "      <td>0.911637</td>\n",
       "      <td>0.911637</td>\n",
       "      <td>0.911608</td>\n",
       "      <td>0.912275</td>\n",
       "      <td>...</td>\n",
       "      <td>8</td>\n",
       "      <td>0.913377</td>\n",
       "      <td>0.914656</td>\n",
       "      <td>0.912882</td>\n",
       "      <td>0.914105</td>\n",
       "      <td>0.914276</td>\n",
       "      <td>0.913442</td>\n",
       "      <td>0.913720</td>\n",
       "      <td>0.913780</td>\n",
       "      <td>0.000561</td>\n",
       "    </tr>\n",
       "    <tr>\n",
       "      <th>4</th>\n",
       "      <td>13.610545</td>\n",
       "      <td>0.547024</td>\n",
       "      <td>0.162992</td>\n",
       "      <td>0.011487</td>\n",
       "      <td>250</td>\n",
       "      <td>{'n_estimators': 250}</td>\n",
       "      <td>0.911637</td>\n",
       "      <td>0.911304</td>\n",
       "      <td>0.911941</td>\n",
       "      <td>0.912608</td>\n",
       "      <td>...</td>\n",
       "      <td>4</td>\n",
       "      <td>0.913933</td>\n",
       "      <td>0.914545</td>\n",
       "      <td>0.912492</td>\n",
       "      <td>0.913326</td>\n",
       "      <td>0.914332</td>\n",
       "      <td>0.913776</td>\n",
       "      <td>0.914054</td>\n",
       "      <td>0.913780</td>\n",
       "      <td>0.000638</td>\n",
       "    </tr>\n",
       "  </tbody>\n",
       "</table>\n",
       "<p>5 rows × 25 columns</p>\n",
       "</div>"
      ],
      "text/plain": [
       "   mean_fit_time  std_fit_time  mean_score_time  std_score_time  \\\n",
       "0       2.347280      0.592067         0.033563        0.006272   \n",
       "1       5.720414      0.045846         0.072944        0.010292   \n",
       "2       8.531931      0.090363         0.095039        0.014902   \n",
       "3      11.308297      0.073404         0.133880        0.011863   \n",
       "4      13.610545      0.547024         0.162992        0.011487   \n",
       "\n",
       "  param_n_estimators                 params  split0_test_score  \\\n",
       "0                 50   {'n_estimators': 50}           0.912638   \n",
       "1                100  {'n_estimators': 100}           0.912304   \n",
       "2                150  {'n_estimators': 150}           0.911637   \n",
       "3                200  {'n_estimators': 200}           0.911637   \n",
       "4                250  {'n_estimators': 250}           0.911637   \n",
       "\n",
       "   split1_test_score  split2_test_score  split3_test_score       ...         \\\n",
       "0           0.912971           0.911941           0.912275       ...          \n",
       "1           0.911304           0.912608           0.912275       ...          \n",
       "2           0.911304           0.912275           0.912275       ...          \n",
       "3           0.911637           0.911608           0.912275       ...          \n",
       "4           0.911304           0.911941           0.912608       ...          \n",
       "\n",
       "   rank_test_score  split0_train_score  split1_train_score  \\\n",
       "0                6            0.913433            0.914433   \n",
       "1                3            0.913210            0.914100   \n",
       "2                8            0.914433            0.915045   \n",
       "3                8            0.913377            0.914656   \n",
       "4                4            0.913933            0.914545   \n",
       "\n",
       "   split2_train_score  split3_train_score  split4_train_score  \\\n",
       "0            0.912326            0.914327            0.912664   \n",
       "1            0.913215            0.913938            0.913220   \n",
       "2            0.912548            0.913660            0.913943   \n",
       "3            0.912882            0.914105            0.914276   \n",
       "4            0.912492            0.913326            0.914332   \n",
       "\n",
       "   split5_train_score  split6_train_score  mean_train_score  std_train_score  \n",
       "0            0.912886            0.913442          0.913359         0.000744  \n",
       "1            0.912886            0.913776          0.913478         0.000422  \n",
       "2            0.913387            0.913943          0.913851         0.000730  \n",
       "3            0.913442            0.913720          0.913780         0.000561  \n",
       "4            0.913776            0.914054          0.913780         0.000638  \n",
       "\n",
       "[5 rows x 25 columns]"
      ]
     },
     "execution_count": 61,
     "metadata": {},
     "output_type": "execute_result"
    }
   ],
   "source": [
    "# scores of GridSearch CV\n",
    "scores = rf.cv_results_\n",
    "pd.DataFrame(scores).head()"
   ]
  },
  {
   "cell_type": "code",
   "execution_count": 62,
   "metadata": {},
   "outputs": [
    {
     "data": {
      "image/png": "[encoded data removed]",
      "text/plain": [
       "<Figure size 432x288 with 1 Axes>"
      ]
     },
     "metadata": {},
     "output_type": "display_data"
    }
   ],
   "source": [
    "\n",
    "plt.figure()\n",
    "plt.plot(scores[\"param_n_estimators\"], \n",
    "         scores[\"mean_train_score\"], \n",
    "         label=\"training accuracy\")\n",
    "plt.plot(scores[\"param_n_estimators\"], \n",
    "         scores[\"mean_test_score\"], \n",
    "         label=\"test accuracy\")\n",
    "plt.xlabel(\"n_estimators\")\n",
    "plt.ylabel(\"Accuracy\")\n",
    "plt.legend()\n",
    "plt.show()"
   ]
  },
  {
   "cell_type": "code",
   "execution_count": 63,
   "metadata": {},
   "outputs": [
    {
     "data": {
      "text/plain": [
       "GridSearchCV(cv=7, error_score='raise',\n",
       "       estimator=RandomForestClassifier(bootstrap=True, class_weight=None, criterion='gini',\n",
       "            max_depth=8, max_features='auto', max_leaf_nodes=None,\n",
       "            min_impurity_decrease=0.0, min_impurity_split=None,\n",
       "            min_samples_leaf=1, min_samples_split=2,\n",
       "            min_weight_fraction_leaf=0.0, n_estimators=10, n_jobs=1,\n",
       "            oob_score=False, random_state=None, verbose=0,\n",
       "            warm_start=False),\n",
       "       fit_params=None, iid=True, n_jobs=1,\n",
       "       param_grid={'max_features': [2, 4, 6, 8, 10]},\n",
       "       pre_dispatch='2*n_jobs', refit=True, return_train_score='warn',\n",
       "       scoring='accuracy', verbose=0)"
      ]
     },
     "execution_count": 63,
     "metadata": {},
     "output_type": "execute_result"
    }
   ],
   "source": [
    "# GridSearchCV to find optimal max_features\n",
    "from sklearn.model_selection import KFold\n",
    "from sklearn.model_selection import GridSearchCV\n",
    "\n",
    "\n",
    "# specify number of folds for k-fold CV\n",
    "n_folds = 7\n",
    "\n",
    "# parameters to build the model on\n",
    "parameters = {'max_features': [2, 4, 6, 8, 10]}\n",
    "\n",
    "# instantiate the model\n",
    "rf = RandomForestClassifier(max_depth=8)\n",
    "\n",
    "\n",
    "# fit tree on training data\n",
    "rf = GridSearchCV(rf, parameters, \n",
    "                    cv=n_folds, \n",
    "                   scoring=\"accuracy\")\n",
    "rf.fit(X_train, y_train)"
   ]
  },
  {
   "cell_type": "code",
   "execution_count": 64,
   "metadata": {},
   "outputs": [
    {
     "data": {
      "text/html": [
       "<div>\n",
       "<style scoped>\n",
       "    .dataframe tbody tr th:only-of-type {\n",
       "        vertical-align: middle;\n",
       "    }\n",
       "\n",
       "    .dataframe tbody tr th {\n",
       "        vertical-align: top;\n",
       "    }\n",
       "\n",
       "    .dataframe thead th {\n",
       "        text-align: right;\n",
       "    }\n",
       "</style>\n",
       "<table border=\"1\" class=\"dataframe\">\n",
       "  <thead>\n",
       "    <tr style=\"text-align: right;\">\n",
       "      <th></th>\n",
       "      <th>mean_fit_time</th>\n",
       "      <th>std_fit_time</th>\n",
       "      <th>mean_score_time</th>\n",
       "      <th>std_score_time</th>\n",
       "      <th>param_max_features</th>\n",
       "      <th>params</th>\n",
       "      <th>split0_test_score</th>\n",
       "      <th>split1_test_score</th>\n",
       "      <th>split2_test_score</th>\n",
       "      <th>split3_test_score</th>\n",
       "      <th>...</th>\n",
       "      <th>rank_test_score</th>\n",
       "      <th>split0_train_score</th>\n",
       "      <th>split1_train_score</th>\n",
       "      <th>split2_train_score</th>\n",
       "      <th>split3_train_score</th>\n",
       "      <th>split4_train_score</th>\n",
       "      <th>split5_train_score</th>\n",
       "      <th>split6_train_score</th>\n",
       "      <th>mean_train_score</th>\n",
       "      <th>std_train_score</th>\n",
       "    </tr>\n",
       "  </thead>\n",
       "  <tbody>\n",
       "    <tr>\n",
       "      <th>0</th>\n",
       "      <td>0.388340</td>\n",
       "      <td>0.057784</td>\n",
       "      <td>0.006383</td>\n",
       "      <td>0.005454</td>\n",
       "      <td>2</td>\n",
       "      <td>{'max_features': 2}</td>\n",
       "      <td>0.913638</td>\n",
       "      <td>0.909637</td>\n",
       "      <td>0.917278</td>\n",
       "      <td>0.915610</td>\n",
       "      <td>...</td>\n",
       "      <td>5</td>\n",
       "      <td>0.927388</td>\n",
       "      <td>0.930502</td>\n",
       "      <td>0.930783</td>\n",
       "      <td>0.928004</td>\n",
       "      <td>0.928452</td>\n",
       "      <td>0.930342</td>\n",
       "      <td>0.927507</td>\n",
       "      <td>0.928997</td>\n",
       "      <td>0.001381</td>\n",
       "    </tr>\n",
       "    <tr>\n",
       "      <th>1</th>\n",
       "      <td>0.810654</td>\n",
       "      <td>0.009687</td>\n",
       "      <td>0.006711</td>\n",
       "      <td>0.007749</td>\n",
       "      <td>4</td>\n",
       "      <td>{'max_features': 4}</td>\n",
       "      <td>0.914638</td>\n",
       "      <td>0.911304</td>\n",
       "      <td>0.913943</td>\n",
       "      <td>0.914610</td>\n",
       "      <td>...</td>\n",
       "      <td>1</td>\n",
       "      <td>0.934949</td>\n",
       "      <td>0.935394</td>\n",
       "      <td>0.936621</td>\n",
       "      <td>0.936621</td>\n",
       "      <td>0.936291</td>\n",
       "      <td>0.937625</td>\n",
       "      <td>0.935123</td>\n",
       "      <td>0.936089</td>\n",
       "      <td>0.000901</td>\n",
       "    </tr>\n",
       "    <tr>\n",
       "      <th>2</th>\n",
       "      <td>1.188360</td>\n",
       "      <td>0.012575</td>\n",
       "      <td>0.006699</td>\n",
       "      <td>0.007735</td>\n",
       "      <td>6</td>\n",
       "      <td>{'max_features': 6}</td>\n",
       "      <td>0.912638</td>\n",
       "      <td>0.909637</td>\n",
       "      <td>0.913609</td>\n",
       "      <td>0.913609</td>\n",
       "      <td>...</td>\n",
       "      <td>4</td>\n",
       "      <td>0.939509</td>\n",
       "      <td>0.940620</td>\n",
       "      <td>0.939623</td>\n",
       "      <td>0.939456</td>\n",
       "      <td>0.939904</td>\n",
       "      <td>0.938014</td>\n",
       "      <td>0.937569</td>\n",
       "      <td>0.939242</td>\n",
       "      <td>0.000993</td>\n",
       "    </tr>\n",
       "    <tr>\n",
       "      <th>3</th>\n",
       "      <td>1.576380</td>\n",
       "      <td>0.014419</td>\n",
       "      <td>0.009104</td>\n",
       "      <td>0.007894</td>\n",
       "      <td>8</td>\n",
       "      <td>{'max_features': 8}</td>\n",
       "      <td>0.913304</td>\n",
       "      <td>0.911637</td>\n",
       "      <td>0.915610</td>\n",
       "      <td>0.912608</td>\n",
       "      <td>...</td>\n",
       "      <td>3</td>\n",
       "      <td>0.941677</td>\n",
       "      <td>0.940843</td>\n",
       "      <td>0.939567</td>\n",
       "      <td>0.939289</td>\n",
       "      <td>0.941850</td>\n",
       "      <td>0.941906</td>\n",
       "      <td>0.939960</td>\n",
       "      <td>0.940728</td>\n",
       "      <td>0.001040</td>\n",
       "    </tr>\n",
       "    <tr>\n",
       "      <th>4</th>\n",
       "      <td>1.955988</td>\n",
       "      <td>0.014465</td>\n",
       "      <td>0.002232</td>\n",
       "      <td>0.005468</td>\n",
       "      <td>10</td>\n",
       "      <td>{'max_features': 10}</td>\n",
       "      <td>0.916639</td>\n",
       "      <td>0.913971</td>\n",
       "      <td>0.914943</td>\n",
       "      <td>0.915277</td>\n",
       "      <td>...</td>\n",
       "      <td>2</td>\n",
       "      <td>0.941065</td>\n",
       "      <td>0.940176</td>\n",
       "      <td>0.940513</td>\n",
       "      <td>0.940846</td>\n",
       "      <td>0.941572</td>\n",
       "      <td>0.940627</td>\n",
       "      <td>0.939793</td>\n",
       "      <td>0.940656</td>\n",
       "      <td>0.000540</td>\n",
       "    </tr>\n",
       "  </tbody>\n",
       "</table>\n",
       "<p>5 rows × 25 columns</p>\n",
       "</div>"
      ],
      "text/plain": [
       "   mean_fit_time  std_fit_time  mean_score_time  std_score_time  \\\n",
       "0       0.388340      0.057784         0.006383        0.005454   \n",
       "1       0.810654      0.009687         0.006711        0.007749   \n",
       "2       1.188360      0.012575         0.006699        0.007735   \n",
       "3       1.576380      0.014419         0.009104        0.007894   \n",
       "4       1.955988      0.014465         0.002232        0.005468   \n",
       "\n",
       "  param_max_features                params  split0_test_score  \\\n",
       "0                  2   {'max_features': 2}           0.913638   \n",
       "1                  4   {'max_features': 4}           0.914638   \n",
       "2                  6   {'max_features': 6}           0.912638   \n",
       "3                  8   {'max_features': 8}           0.913304   \n",
       "4                 10  {'max_features': 10}           0.916639   \n",
       "\n",
       "   split1_test_score  split2_test_score  split3_test_score       ...         \\\n",
       "0           0.909637           0.917278           0.915610       ...          \n",
       "1           0.911304           0.913943           0.914610       ...          \n",
       "2           0.909637           0.913609           0.913609       ...          \n",
       "3           0.911637           0.915610           0.912608       ...          \n",
       "4           0.913971           0.914943           0.915277       ...          \n",
       "\n",
       "   rank_test_score  split0_train_score  split1_train_score  \\\n",
       "0                5            0.927388            0.930502   \n",
       "1                1            0.934949            0.935394   \n",
       "2                4            0.939509            0.940620   \n",
       "3                3            0.941677            0.940843   \n",
       "4                2            0.941065            0.940176   \n",
       "\n",
       "   split2_train_score  split3_train_score  split4_train_score  \\\n",
       "0            0.930783            0.928004            0.928452   \n",
       "1            0.936621            0.936621            0.936291   \n",
       "2            0.939623            0.939456            0.939904   \n",
       "3            0.939567            0.939289            0.941850   \n",
       "4            0.940513            0.940846            0.941572   \n",
       "\n",
       "   split5_train_score  split6_train_score  mean_train_score  std_train_score  \n",
       "0            0.930342            0.927507          0.928997         0.001381  \n",
       "1            0.937625            0.935123          0.936089         0.000901  \n",
       "2            0.938014            0.937569          0.939242         0.000993  \n",
       "3            0.941906            0.939960          0.940728         0.001040  \n",
       "4            0.940627            0.939793          0.940656         0.000540  \n",
       "\n",
       "[5 rows x 25 columns]"
      ]
     },
     "execution_count": 64,
     "metadata": {},
     "output_type": "execute_result"
    }
   ],
   "source": [
    "# scores of GridSearch CV\n",
    "scores = rf.cv_results_\n",
    "pd.DataFrame(scores).head()"
   ]
  },
  {
   "cell_type": "code",
   "execution_count": 65,
   "metadata": {},
   "outputs": [
    {
     "data": {
      "image/png": "[encoded data removed]",
      "text/plain": [
       "<Figure size 432x288 with 1 Axes>"
      ]
     },
     "metadata": {},
     "output_type": "display_data"
    }
   ],
   "source": [
    "# plotting accuracies with max_features\n",
    "plt.figure()\n",
    "plt.plot(scores[\"param_max_features\"], \n",
    "         scores[\"mean_train_score\"], \n",
    "         label=\"training accuracy\")\n",
    "plt.plot(scores[\"param_max_features\"], \n",
    "         scores[\"mean_test_score\"], \n",
    "         label=\"test accuracy\")\n",
    "plt.xlabel(\"max_features\")\n",
    "plt.ylabel(\"Accuracy\")\n",
    "plt.legend()\n",
    "plt.show()"
   ]
  },
  {
   "cell_type": "code",
   "execution_count": 66,
   "metadata": {},
   "outputs": [
    {
     "data": {
      "text/plain": [
       "GridSearchCV(cv=7, error_score='raise',\n",
       "       estimator=RandomForestClassifier(bootstrap=True, class_weight=None, criterion='gini',\n",
       "            max_depth=None, max_features='auto', max_leaf_nodes=None,\n",
       "            min_impurity_decrease=0.0, min_impurity_split=None,\n",
       "            min_samples_leaf=1, min_samples_split=2,\n",
       "            min_weight_fraction_leaf=0.0, n_estimators=10, n_jobs=1,\n",
       "            oob_score=False, random_state=None, verbose=0,\n",
       "            warm_start=False),\n",
       "       fit_params=None, iid=True, n_jobs=1,\n",
       "       param_grid={'min_samples_split': range(100, 400, 20)},\n",
       "       pre_dispatch='2*n_jobs', refit=True, return_train_score='warn',\n",
       "       scoring='accuracy', verbose=0)"
      ]
     },
     "execution_count": 66,
     "metadata": {},
     "output_type": "execute_result"
    }
   ],
   "source": [
    "# GridSearchCV to find optimal min_samples_split\n",
    "from sklearn.model_selection import KFold\n",
    "from sklearn.model_selection import GridSearchCV\n",
    "\n",
    "\n",
    "# specify number of folds for k-fold CV\n",
    "n_folds = 7\n",
    "\n",
    "# parameters to build the model on\n",
    "parameters = {'min_samples_split': range(100, 400, 20)}\n",
    "\n",
    "# instantiate the model\n",
    "rf = RandomForestClassifier()\n",
    "\n",
    "\n",
    "# fit tree on training data\n",
    "rf = GridSearchCV(rf, parameters, \n",
    "                    cv=n_folds, \n",
    "                   scoring=\"accuracy\")\n",
    "rf.fit(X_train, y_train)"
   ]
  },
  {
   "cell_type": "code",
   "execution_count": 67,
   "metadata": {},
   "outputs": [
    {
     "data": {
      "text/html": [
       "<div>\n",
       "<style scoped>\n",
       "    .dataframe tbody tr th:only-of-type {\n",
       "        vertical-align: middle;\n",
       "    }\n",
       "\n",
       "    .dataframe tbody tr th {\n",
       "        vertical-align: top;\n",
       "    }\n",
       "\n",
       "    .dataframe thead th {\n",
       "        text-align: right;\n",
       "    }\n",
       "</style>\n",
       "<table border=\"1\" class=\"dataframe\">\n",
       "  <thead>\n",
       "    <tr style=\"text-align: right;\">\n",
       "      <th></th>\n",
       "      <th>mean_fit_time</th>\n",
       "      <th>std_fit_time</th>\n",
       "      <th>mean_score_time</th>\n",
       "      <th>std_score_time</th>\n",
       "      <th>param_min_samples_split</th>\n",
       "      <th>params</th>\n",
       "      <th>split0_test_score</th>\n",
       "      <th>split1_test_score</th>\n",
       "      <th>split2_test_score</th>\n",
       "      <th>split3_test_score</th>\n",
       "      <th>...</th>\n",
       "      <th>rank_test_score</th>\n",
       "      <th>split0_train_score</th>\n",
       "      <th>split1_train_score</th>\n",
       "      <th>split2_train_score</th>\n",
       "      <th>split3_train_score</th>\n",
       "      <th>split4_train_score</th>\n",
       "      <th>split5_train_score</th>\n",
       "      <th>split6_train_score</th>\n",
       "      <th>mean_train_score</th>\n",
       "      <th>std_train_score</th>\n",
       "    </tr>\n",
       "  </thead>\n",
       "  <tbody>\n",
       "    <tr>\n",
       "      <th>0</th>\n",
       "      <td>0.737784</td>\n",
       "      <td>0.155297</td>\n",
       "      <td>0.007839</td>\n",
       "      <td>0.002608</td>\n",
       "      <td>100</td>\n",
       "      <td>{'min_samples_split': 100}</td>\n",
       "      <td>0.917973</td>\n",
       "      <td>0.912304</td>\n",
       "      <td>0.917612</td>\n",
       "      <td>0.914276</td>\n",
       "      <td>...</td>\n",
       "      <td>1</td>\n",
       "      <td>0.924664</td>\n",
       "      <td>0.923774</td>\n",
       "      <td>0.925001</td>\n",
       "      <td>0.923445</td>\n",
       "      <td>0.924894</td>\n",
       "      <td>0.922671</td>\n",
       "      <td>0.922170</td>\n",
       "      <td>0.923803</td>\n",
       "      <td>0.001031</td>\n",
       "    </tr>\n",
       "    <tr>\n",
       "      <th>1</th>\n",
       "      <td>0.605176</td>\n",
       "      <td>0.051072</td>\n",
       "      <td>0.007222</td>\n",
       "      <td>0.002004</td>\n",
       "      <td>120</td>\n",
       "      <td>{'min_samples_split': 120}</td>\n",
       "      <td>0.913304</td>\n",
       "      <td>0.911637</td>\n",
       "      <td>0.917945</td>\n",
       "      <td>0.915277</td>\n",
       "      <td>...</td>\n",
       "      <td>2</td>\n",
       "      <td>0.923218</td>\n",
       "      <td>0.921050</td>\n",
       "      <td>0.922333</td>\n",
       "      <td>0.922110</td>\n",
       "      <td>0.921837</td>\n",
       "      <td>0.921726</td>\n",
       "      <td>0.920503</td>\n",
       "      <td>0.921825</td>\n",
       "      <td>0.000814</td>\n",
       "    </tr>\n",
       "    <tr>\n",
       "      <th>2</th>\n",
       "      <td>0.834534</td>\n",
       "      <td>0.144428</td>\n",
       "      <td>0.006759</td>\n",
       "      <td>0.006399</td>\n",
       "      <td>140</td>\n",
       "      <td>{'min_samples_split': 140}</td>\n",
       "      <td>0.914305</td>\n",
       "      <td>0.909303</td>\n",
       "      <td>0.917278</td>\n",
       "      <td>0.915277</td>\n",
       "      <td>...</td>\n",
       "      <td>3</td>\n",
       "      <td>0.921439</td>\n",
       "      <td>0.920271</td>\n",
       "      <td>0.920498</td>\n",
       "      <td>0.920387</td>\n",
       "      <td>0.920002</td>\n",
       "      <td>0.919891</td>\n",
       "      <td>0.918279</td>\n",
       "      <td>0.920110</td>\n",
       "      <td>0.000881</td>\n",
       "    </tr>\n",
       "    <tr>\n",
       "      <th>3</th>\n",
       "      <td>0.781939</td>\n",
       "      <td>0.172149</td>\n",
       "      <td>0.009862</td>\n",
       "      <td>0.005876</td>\n",
       "      <td>160</td>\n",
       "      <td>{'min_samples_split': 160}</td>\n",
       "      <td>0.913304</td>\n",
       "      <td>0.913971</td>\n",
       "      <td>0.915610</td>\n",
       "      <td>0.914610</td>\n",
       "      <td>...</td>\n",
       "      <td>4</td>\n",
       "      <td>0.918214</td>\n",
       "      <td>0.919938</td>\n",
       "      <td>0.917941</td>\n",
       "      <td>0.918108</td>\n",
       "      <td>0.918501</td>\n",
       "      <td>0.920947</td>\n",
       "      <td>0.916667</td>\n",
       "      <td>0.918616</td>\n",
       "      <td>0.001302</td>\n",
       "    </tr>\n",
       "    <tr>\n",
       "      <th>4</th>\n",
       "      <td>0.576770</td>\n",
       "      <td>0.045958</td>\n",
       "      <td>0.006590</td>\n",
       "      <td>0.002007</td>\n",
       "      <td>180</td>\n",
       "      <td>{'min_samples_split': 180}</td>\n",
       "      <td>0.914305</td>\n",
       "      <td>0.909637</td>\n",
       "      <td>0.914610</td>\n",
       "      <td>0.914943</td>\n",
       "      <td>...</td>\n",
       "      <td>6</td>\n",
       "      <td>0.920105</td>\n",
       "      <td>0.917436</td>\n",
       "      <td>0.915328</td>\n",
       "      <td>0.916940</td>\n",
       "      <td>0.917501</td>\n",
       "      <td>0.917389</td>\n",
       "      <td>0.917056</td>\n",
       "      <td>0.917393</td>\n",
       "      <td>0.001307</td>\n",
       "    </tr>\n",
       "  </tbody>\n",
       "</table>\n",
       "<p>5 rows × 25 columns</p>\n",
       "</div>"
      ],
      "text/plain": [
       "   mean_fit_time  std_fit_time  mean_score_time  std_score_time  \\\n",
       "0       0.737784      0.155297         0.007839        0.002608   \n",
       "1       0.605176      0.051072         0.007222        0.002004   \n",
       "2       0.834534      0.144428         0.006759        0.006399   \n",
       "3       0.781939      0.172149         0.009862        0.005876   \n",
       "4       0.576770      0.045958         0.006590        0.002007   \n",
       "\n",
       "  param_min_samples_split                      params  split0_test_score  \\\n",
       "0                     100  {'min_samples_split': 100}           0.917973   \n",
       "1                     120  {'min_samples_split': 120}           0.913304   \n",
       "2                     140  {'min_samples_split': 140}           0.914305   \n",
       "3                     160  {'min_samples_split': 160}           0.913304   \n",
       "4                     180  {'min_samples_split': 180}           0.914305   \n",
       "\n",
       "   split1_test_score  split2_test_score  split3_test_score       ...         \\\n",
       "0           0.912304           0.917612           0.914276       ...          \n",
       "1           0.911637           0.917945           0.915277       ...          \n",
       "2           0.909303           0.917278           0.915277       ...          \n",
       "3           0.913971           0.915610           0.914610       ...          \n",
       "4           0.909637           0.914610           0.914943       ...          \n",
       "\n",
       "   rank_test_score  split0_train_score  split1_train_score  \\\n",
       "0                1            0.924664            0.923774   \n",
       "1                2            0.923218            0.921050   \n",
       "2                3            0.921439            0.920271   \n",
       "3                4            0.918214            0.919938   \n",
       "4                6            0.920105            0.917436   \n",
       "\n",
       "   split2_train_score  split3_train_score  split4_train_score  \\\n",
       "0            0.925001            0.923445            0.924894   \n",
       "1            0.922333            0.922110            0.921837   \n",
       "2            0.920498            0.920387            0.920002   \n",
       "3            0.917941            0.918108            0.918501   \n",
       "4            0.915328            0.916940            0.917501   \n",
       "\n",
       "   split5_train_score  split6_train_score  mean_train_score  std_train_score  \n",
       "0            0.922671            0.922170          0.923803         0.001031  \n",
       "1            0.921726            0.920503          0.921825         0.000814  \n",
       "2            0.919891            0.918279          0.920110         0.000881  \n",
       "3            0.920947            0.916667          0.918616         0.001302  \n",
       "4            0.917389            0.917056          0.917393         0.001307  \n",
       "\n",
       "[5 rows x 25 columns]"
      ]
     },
     "execution_count": 67,
     "metadata": {},
     "output_type": "execute_result"
    }
   ],
   "source": [
    "# scores of GridSearch CV\n",
    "scores = rf.cv_results_\n",
    "pd.DataFrame(scores).head()"
   ]
  },
  {
   "cell_type": "code",
   "execution_count": 68,
   "metadata": {},
   "outputs": [
    {
     "data": {
      "image/png": "[encoded data removed]",
      "text/plain": [
       "<Figure size 432x288 with 1 Axes>"
      ]
     },
     "metadata": {},
     "output_type": "display_data"
    }
   ],
   "source": [
    "# plotting accuracies with min_samples_split\n",
    "plt.figure()\n",
    "plt.plot(scores[\"param_min_samples_split\"], \n",
    "         scores[\"mean_train_score\"], \n",
    "         label=\"training accuracy\")\n",
    "plt.plot(scores[\"param_min_samples_split\"], \n",
    "         scores[\"mean_test_score\"], \n",
    "         label=\"test accuracy\")\n",
    "plt.xlabel(\"min_samples_split\")\n",
    "plt.ylabel(\"Accuracy\")\n",
    "plt.legend()\n",
    "plt.show()"
   ]
  },
  {
   "cell_type": "code",
   "execution_count": 69,
   "metadata": {},
   "outputs": [
    {
     "data": {
      "text/plain": [
       "GridSearchCV(cv=7, error_score='raise',\n",
       "       estimator=RandomForestClassifier(bootstrap=True, class_weight=None, criterion='gini',\n",
       "            max_depth=None, max_features='auto', max_leaf_nodes=None,\n",
       "            min_impurity_decrease=0.0, min_impurity_split=None,\n",
       "            min_samples_leaf=1, min_samples_split=2,\n",
       "            min_weight_fraction_leaf=0.0, n_estimators=10, n_jobs=1,\n",
       "            oob_score=False, random_state=None, verbose=0,\n",
       "            warm_start=False),\n",
       "       fit_params=None, iid=True, n_jobs=1,\n",
       "       param_grid={'min_samples_leaf': range(100, 260, 20)},\n",
       "       pre_dispatch='2*n_jobs', refit=True, return_train_score='warn',\n",
       "       scoring='accuracy', verbose=0)"
      ]
     },
     "execution_count": 69,
     "metadata": {},
     "output_type": "execute_result"
    }
   ],
   "source": [
    "# GridSearchCV to find optimal min_samples_leaf\n",
    "from sklearn.model_selection import KFold\n",
    "from sklearn.model_selection import GridSearchCV\n",
    "\n",
    "\n",
    "# specify number of folds for k-fold CV\n",
    "n_folds = 7\n",
    "\n",
    "# parameters to build the model on\n",
    "parameters = {'min_samples_leaf': range(100, 260, 20)}\n",
    "\n",
    "# instantiate the model\n",
    "rf = RandomForestClassifier()\n",
    "\n",
    "\n",
    "# fit tree on training data\n",
    "rf = GridSearchCV(rf, parameters, \n",
    "                    cv=n_folds, \n",
    "                   scoring=\"accuracy\")\n",
    "rf.fit(X_train, y_train)"
   ]
  },
  {
   "cell_type": "code",
   "execution_count": 70,
   "metadata": {},
   "outputs": [
    {
     "data": {
      "text/html": [
       "<div>\n",
       "<style scoped>\n",
       "    .dataframe tbody tr th:only-of-type {\n",
       "        vertical-align: middle;\n",
       "    }\n",
       "\n",
       "    .dataframe tbody tr th {\n",
       "        vertical-align: top;\n",
       "    }\n",
       "\n",
       "    .dataframe thead th {\n",
       "        text-align: right;\n",
       "    }\n",
       "</style>\n",
       "<table border=\"1\" class=\"dataframe\">\n",
       "  <thead>\n",
       "    <tr style=\"text-align: right;\">\n",
       "      <th></th>\n",
       "      <th>mean_fit_time</th>\n",
       "      <th>std_fit_time</th>\n",
       "      <th>mean_score_time</th>\n",
       "      <th>std_score_time</th>\n",
       "      <th>param_min_samples_leaf</th>\n",
       "      <th>params</th>\n",
       "      <th>split0_test_score</th>\n",
       "      <th>split1_test_score</th>\n",
       "      <th>split2_test_score</th>\n",
       "      <th>split3_test_score</th>\n",
       "      <th>...</th>\n",
       "      <th>rank_test_score</th>\n",
       "      <th>split0_train_score</th>\n",
       "      <th>split1_train_score</th>\n",
       "      <th>split2_train_score</th>\n",
       "      <th>split3_train_score</th>\n",
       "      <th>split4_train_score</th>\n",
       "      <th>split5_train_score</th>\n",
       "      <th>split6_train_score</th>\n",
       "      <th>mean_train_score</th>\n",
       "      <th>std_train_score</th>\n",
       "    </tr>\n",
       "  </thead>\n",
       "  <tbody>\n",
       "    <tr>\n",
       "      <th>0</th>\n",
       "      <td>0.586682</td>\n",
       "      <td>0.133997</td>\n",
       "      <td>0.007461</td>\n",
       "      <td>0.004365</td>\n",
       "      <td>100</td>\n",
       "      <td>{'min_samples_leaf': 100}</td>\n",
       "      <td>0.912638</td>\n",
       "      <td>0.910970</td>\n",
       "      <td>0.913609</td>\n",
       "      <td>0.913943</td>\n",
       "      <td>...</td>\n",
       "      <td>1</td>\n",
       "      <td>0.913933</td>\n",
       "      <td>0.914600</td>\n",
       "      <td>0.913104</td>\n",
       "      <td>0.913437</td>\n",
       "      <td>0.914109</td>\n",
       "      <td>0.913053</td>\n",
       "      <td>0.913887</td>\n",
       "      <td>0.913732</td>\n",
       "      <td>0.000521</td>\n",
       "    </tr>\n",
       "    <tr>\n",
       "      <th>1</th>\n",
       "      <td>0.621715</td>\n",
       "      <td>0.032630</td>\n",
       "      <td>0.008364</td>\n",
       "      <td>0.005657</td>\n",
       "      <td>120</td>\n",
       "      <td>{'min_samples_leaf': 120}</td>\n",
       "      <td>0.913971</td>\n",
       "      <td>0.910303</td>\n",
       "      <td>0.911941</td>\n",
       "      <td>0.912275</td>\n",
       "      <td>...</td>\n",
       "      <td>1</td>\n",
       "      <td>0.914100</td>\n",
       "      <td>0.914267</td>\n",
       "      <td>0.912882</td>\n",
       "      <td>0.913549</td>\n",
       "      <td>0.914387</td>\n",
       "      <td>0.913609</td>\n",
       "      <td>0.913609</td>\n",
       "      <td>0.913772</td>\n",
       "      <td>0.000482</td>\n",
       "    </tr>\n",
       "    <tr>\n",
       "      <th>2</th>\n",
       "      <td>0.637714</td>\n",
       "      <td>0.015295</td>\n",
       "      <td>0.008021</td>\n",
       "      <td>0.006898</td>\n",
       "      <td>140</td>\n",
       "      <td>{'min_samples_leaf': 140}</td>\n",
       "      <td>0.913638</td>\n",
       "      <td>0.910303</td>\n",
       "      <td>0.912608</td>\n",
       "      <td>0.912608</td>\n",
       "      <td>...</td>\n",
       "      <td>1</td>\n",
       "      <td>0.912376</td>\n",
       "      <td>0.913488</td>\n",
       "      <td>0.912770</td>\n",
       "      <td>0.912993</td>\n",
       "      <td>0.912998</td>\n",
       "      <td>0.913387</td>\n",
       "      <td>0.912831</td>\n",
       "      <td>0.912978</td>\n",
       "      <td>0.000349</td>\n",
       "    </tr>\n",
       "    <tr>\n",
       "      <th>3</th>\n",
       "      <td>0.623717</td>\n",
       "      <td>0.024639</td>\n",
       "      <td>0.007092</td>\n",
       "      <td>0.007917</td>\n",
       "      <td>160</td>\n",
       "      <td>{'min_samples_leaf': 160}</td>\n",
       "      <td>0.914305</td>\n",
       "      <td>0.911637</td>\n",
       "      <td>0.912275</td>\n",
       "      <td>0.910607</td>\n",
       "      <td>...</td>\n",
       "      <td>5</td>\n",
       "      <td>0.912376</td>\n",
       "      <td>0.912988</td>\n",
       "      <td>0.911992</td>\n",
       "      <td>0.912770</td>\n",
       "      <td>0.911385</td>\n",
       "      <td>0.912720</td>\n",
       "      <td>0.912275</td>\n",
       "      <td>0.912358</td>\n",
       "      <td>0.000505</td>\n",
       "    </tr>\n",
       "    <tr>\n",
       "      <th>4</th>\n",
       "      <td>0.595678</td>\n",
       "      <td>0.015431</td>\n",
       "      <td>0.010657</td>\n",
       "      <td>0.006850</td>\n",
       "      <td>180</td>\n",
       "      <td>{'min_samples_leaf': 180}</td>\n",
       "      <td>0.912971</td>\n",
       "      <td>0.911637</td>\n",
       "      <td>0.912275</td>\n",
       "      <td>0.913276</td>\n",
       "      <td>...</td>\n",
       "      <td>4</td>\n",
       "      <td>0.912432</td>\n",
       "      <td>0.912487</td>\n",
       "      <td>0.912826</td>\n",
       "      <td>0.913326</td>\n",
       "      <td>0.912164</td>\n",
       "      <td>0.911552</td>\n",
       "      <td>0.911385</td>\n",
       "      <td>0.912310</td>\n",
       "      <td>0.000632</td>\n",
       "    </tr>\n",
       "  </tbody>\n",
       "</table>\n",
       "<p>5 rows × 25 columns</p>\n",
       "</div>"
      ],
      "text/plain": [
       "   mean_fit_time  std_fit_time  mean_score_time  std_score_time  \\\n",
       "0       0.586682      0.133997         0.007461        0.004365   \n",
       "1       0.621715      0.032630         0.008364        0.005657   \n",
       "2       0.637714      0.015295         0.008021        0.006898   \n",
       "3       0.623717      0.024639         0.007092        0.007917   \n",
       "4       0.595678      0.015431         0.010657        0.006850   \n",
       "\n",
       "  param_min_samples_leaf                     params  split0_test_score  \\\n",
       "0                    100  {'min_samples_leaf': 100}           0.912638   \n",
       "1                    120  {'min_samples_leaf': 120}           0.913971   \n",
       "2                    140  {'min_samples_leaf': 140}           0.913638   \n",
       "3                    160  {'min_samples_leaf': 160}           0.914305   \n",
       "4                    180  {'min_samples_leaf': 180}           0.912971   \n",
       "\n",
       "   split1_test_score  split2_test_score  split3_test_score       ...         \\\n",
       "0           0.910970           0.913609           0.913943       ...          \n",
       "1           0.910303           0.911941           0.912275       ...          \n",
       "2           0.910303           0.912608           0.912608       ...          \n",
       "3           0.911637           0.912275           0.910607       ...          \n",
       "4           0.911637           0.912275           0.913276       ...          \n",
       "\n",
       "   rank_test_score  split0_train_score  split1_train_score  \\\n",
       "0                1            0.913933            0.914600   \n",
       "1                1            0.914100            0.914267   \n",
       "2                1            0.912376            0.913488   \n",
       "3                5            0.912376            0.912988   \n",
       "4                4            0.912432            0.912487   \n",
       "\n",
       "   split2_train_score  split3_train_score  split4_train_score  \\\n",
       "0            0.913104            0.913437            0.914109   \n",
       "1            0.912882            0.913549            0.914387   \n",
       "2            0.912770            0.912993            0.912998   \n",
       "3            0.911992            0.912770            0.911385   \n",
       "4            0.912826            0.913326            0.912164   \n",
       "\n",
       "   split5_train_score  split6_train_score  mean_train_score  std_train_score  \n",
       "0            0.913053            0.913887          0.913732         0.000521  \n",
       "1            0.913609            0.913609          0.913772         0.000482  \n",
       "2            0.913387            0.912831          0.912978         0.000349  \n",
       "3            0.912720            0.912275          0.912358         0.000505  \n",
       "4            0.911552            0.911385          0.912310         0.000632  \n",
       "\n",
       "[5 rows x 25 columns]"
      ]
     },
     "execution_count": 70,
     "metadata": {},
     "output_type": "execute_result"
    }
   ],
   "source": [
    "# scores of GridSearch CV\n",
    "scores = rf.cv_results_\n",
    "pd.DataFrame(scores).head()"
   ]
  },
  {
   "cell_type": "code",
   "execution_count": 71,
   "metadata": {},
   "outputs": [
    {
     "data": {
      "image/png": "[encoded data removed]",
      "text/plain": [
       "<Figure size 432x288 with 1 Axes>"
      ]
     },
     "metadata": {},
     "output_type": "display_data"
    }
   ],
   "source": [
    "# plotting accuracies with min_samples_leaf\n",
    "plt.figure()\n",
    "plt.plot(scores[\"param_min_samples_leaf\"], \n",
    "         scores[\"mean_train_score\"], \n",
    "         label=\"training accuracy\")\n",
    "plt.plot(scores[\"param_min_samples_leaf\"], \n",
    "         scores[\"mean_test_score\"], \n",
    "         label=\"test accuracy\")\n",
    "plt.xlabel(\"min_samples_leaf\")\n",
    "plt.ylabel(\"Accuracy\")\n",
    "plt.legend()\n",
    "plt.show()"
   ]
  },
  {
   "cell_type": "code",
   "execution_count": 72,
   "metadata": {},
   "outputs": [],
   "source": [
    "# Create the parameter grid based on the results of random search \n",
    "param_grid = {\n",
    "    'max_depth': [5, 8, 15],\n",
    "    'min_samples_leaf': [50, 100, 200],\n",
    "    'min_samples_split': [50, 100, 200],\n",
    "    'n_estimators': [10, 50, 100], \n",
    "    'max_features': [4, 6, 10]\n",
    "}\n",
    "\n",
    "# Create a based model\n",
    "rf = RandomForestClassifier()\n",
    "# Instantiate the grid search model\n",
    "grid_search = GridSearchCV(estimator = rf, param_grid = param_grid, \n",
    "                          cv = 3, n_jobs = -1,verbose = 1)"
   ]
  },
  {
   "cell_type": "code",
   "execution_count": 73,
   "metadata": {},
   "outputs": [
    {
     "name": "stdout",
     "output_type": "stream",
     "text": [
      "Fitting 3 folds for each of 243 candidates, totalling 729 fits\n"
     ]
    },
    {
     "name": "stderr",
     "output_type": "stream",
     "text": [
      "[Parallel(n_jobs=-1)]: Done  42 tasks      | elapsed:   43.4s\n",
      "[Parallel(n_jobs=-1)]: Done 192 tasks      | elapsed:  3.9min\n",
      "[Parallel(n_jobs=-1)]: Done 442 tasks      | elapsed: 11.2min\n",
      "[Parallel(n_jobs=-1)]: Done 729 out of 729 | elapsed: 23.0min finished\n"
     ]
    },
    {
     "data": {
      "text/plain": [
       "GridSearchCV(cv=3, error_score='raise',\n",
       "       estimator=RandomForestClassifier(bootstrap=True, class_weight=None, criterion='gini',\n",
       "            max_depth=None, max_features='auto', max_leaf_nodes=None,\n",
       "            min_impurity_decrease=0.0, min_impurity_split=None,\n",
       "            min_samples_leaf=1, min_samples_split=2,\n",
       "            min_weight_fraction_leaf=0.0, n_estimators=10, n_jobs=1,\n",
       "            oob_score=False, random_state=None, verbose=0,\n",
       "            warm_start=False),\n",
       "       fit_params=None, iid=True, n_jobs=-1,\n",
       "       param_grid={'max_depth': [5, 8, 15], 'min_samples_leaf': [50, 100, 200], 'min_samples_split': [50, 100, 200], 'n_estimators': [10, 50, 100], 'max_features': [4, 6, 10]},\n",
       "       pre_dispatch='2*n_jobs', refit=True, return_train_score='warn',\n",
       "       scoring=None, verbose=1)"
      ]
     },
     "execution_count": 73,
     "metadata": {},
     "output_type": "execute_result"
    }
   ],
   "source": [
    "# Fit the grid search to the data\n",
    "grid_search.fit(X_train, y_train)"
   ]
  },
  {
   "cell_type": "code",
   "execution_count": 74,
   "metadata": {},
   "outputs": [
    {
     "name": "stdout",
     "output_type": "stream",
     "text": [
      "Accuracy using {'max_depth': 8, 'max_features': 10, 'min_samples_leaf': 50, 'min_samples_split': 100, 'n_estimators': 50} is 0.9157493447700739\n"
     ]
    }
   ],
   "source": [
    "print('Accuracy using',grid_search.best_params_, 'is', grid_search.best_score_)"
   ]
  },
  {
   "cell_type": "code",
   "execution_count": 75,
   "metadata": {},
   "outputs": [],
   "source": [
    "# model with the best hyperparameters\n",
    "from sklearn.ensemble import RandomForestClassifier\n",
    "rfc = RandomForestClassifier(bootstrap=True,\n",
    "                             max_depth=8,\n",
    "                             min_samples_leaf=50, \n",
    "                             min_samples_split=50,\n",
    "                             max_features=10,\n",
    "                             n_estimators=50,\n",
    "                             class_weight={0:0.05 , 1:0.95}\n",
    "                            )"
   ]
  },
  {
   "cell_type": "code",
   "execution_count": 76,
   "metadata": {},
   "outputs": [
    {
     "data": {
      "text/plain": [
       "RandomForestClassifier(bootstrap=True, class_weight={0: 0.05, 1: 0.95},\n",
       "            criterion='gini', max_depth=8, max_features=10,\n",
       "            max_leaf_nodes=None, min_impurity_decrease=0.0,\n",
       "            min_impurity_split=None, min_samples_leaf=50,\n",
       "            min_samples_split=50, min_weight_fraction_leaf=0.0,\n",
       "            n_estimators=50, n_jobs=1, oob_score=False, random_state=None,\n",
       "            verbose=0, warm_start=False)"
      ]
     },
     "execution_count": 76,
     "metadata": {},
     "output_type": "execute_result"
    }
   ],
   "source": [
    "# fit\n",
    "rfc.fit(X_train,y_train)"
   ]
  },
  {
   "cell_type": "code",
   "execution_count": 77,
   "metadata": {},
   "outputs": [],
   "source": [
    "# evaluation metrics\n",
    "from sklearn.metrics import classification_report,confusion_matrix"
   ]
  },
  {
   "cell_type": "code",
   "execution_count": 78,
   "metadata": {},
   "outputs": [
    {
     "name": "stdout",
     "output_type": "stream",
     "text": [
      "             precision    recall  f1-score   support\n",
      "\n",
      "          0       0.93      0.99      0.96      8177\n",
      "          1       0.61      0.21      0.31       817\n",
      "\n",
      "avg / total       0.90      0.92      0.90      8994\n",
      "\n"
     ]
    }
   ],
   "source": [
    "print(classification_report(y_test,predictions))"
   ]
  },
  {
   "cell_type": "code",
   "execution_count": 79,
   "metadata": {},
   "outputs": [
    {
     "name": "stderr",
     "output_type": "stream",
     "text": [
      "C:\\ProgramData\\Anaconda3\\lib\\site-packages\\sklearn\\cross_validation.py:41: DeprecationWarning: This module was deprecated in version 0.18 in favor of the model_selection module into which all the refactored classes and functions are moved. Also note that the interface of the new CV iterators are different from that of this module. This module will be removed in 0.20.\n",
      "  \"This module will be removed in 0.20.\", DeprecationWarning)\n",
      "C:\\ProgramData\\Anaconda3\\lib\\site-packages\\sklearn\\grid_search.py:42: DeprecationWarning: This module was deprecated in version 0.18 in favor of the model_selection module into which all the refactored classes and functions are moved. This module will be removed in 0.20.\n",
      "  DeprecationWarning)\n",
      "C:\\ProgramData\\Anaconda3\\lib\\site-packages\\sklearn\\learning_curve.py:22: DeprecationWarning: This module was deprecated in version 0.18 in favor of the model_selection module into which all the functions are moved. This module will be removed in 0.20\n",
      "  DeprecationWarning)\n"
     ]
    },
    {
     "data": {
      "text/plain": [
       "LinearRegression(copy_X=True, fit_intercept=True, n_jobs=1, normalize=False)"
      ]
     },
     "execution_count": 79,
     "metadata": {},
     "output_type": "execute_result"
    }
   ],
   "source": [
    "X = telecom_data.drop('churn', 1)\n",
    "y = telecom_data['churn']\n",
    "\n",
    "from sklearn.linear_model import LinearRegression\n",
    "from sklearn import linear_model\n",
    "from sklearn.linear_model import Lasso\n",
    "from  sklearn import *\n",
    "# linear regression\n",
    "lm = LinearRegression()\n",
    "lm.fit(X, y)"
   ]
  },
  {
   "cell_type": "code",
   "execution_count": 80,
   "metadata": {},
   "outputs": [
    {
     "name": "stdout",
     "output_type": "stream",
     "text": [
      "Most important features:\n",
      "loc_ic_t2o_mou\n",
      "total_rech_amt_6\n",
      "total_rech_amt_7\n",
      "std_ic_t2o_mou_6\n",
      "std_ic_t2o_mou_7\n",
      "std_og_t2c_mou_7\n",
      "count_rech_2g_8\n",
      "std_ic_t2o_mou_8\n",
      "count_rech_2g_6\n",
      "count_rech_3g_8\n",
      "count_rech_2g_7\n",
      "monthly_3g_6\n",
      "sachet_3g_6\n",
      "sachet_3g_8\n",
      "monthly_3g_8\n"
     ]
    }
   ],
   "source": [
    "selcol=X.columns[lm.coef_>0]\n",
    "selcoff=lm.coef_[lm.coef_>0]\n",
    "\n",
    "sort_key=np.argsort(selcoff)\n",
    "#sorting col names asc\n",
    "sort_selcol=list(selcol[sort_key])\n",
    "sort_selcol.reverse()\n",
    "sorted_selcoff=sorted(selcoff, reverse = True)\n",
    "print ('Most important features:')\n",
    "for x,y in zip(sort_selcol[:15],sorted_selcoff[:15]):\n",
    "    print(x)"
   ]
  },
  {
   "cell_type": "code",
   "execution_count": 81,
   "metadata": {},
   "outputs": [],
   "source": [
    "from sklearn.tree import DecisionTreeClassifier\n",
    "from IPython.display import Image  \n",
    "from sklearn.externals.six import StringIO  \n",
    "from sklearn.tree import export_graphviz\n",
    "import pydotplus,graphviz"
   ]
  },
  {
   "cell_type": "code",
   "execution_count": 82,
   "metadata": {},
   "outputs": [],
   "source": [
    "import os\n",
    "os.environ[\"PATH\"] += os.pathsep + 'C:\\Program Files (x86)\\Graphviz2.38\\bin/'"
   ]
  },
  {
   "cell_type": "code",
   "execution_count": 83,
   "metadata": {},
   "outputs": [
    {
     "name": "stdout",
     "output_type": "stream",
     "text": [
      "0.938857200040028\n"
     ]
    },
    {
     "data": {
      "image/png": "[encoded data removed]",
      "text/plain": [
       "<IPython.core.display.Image object>"
      ]
     },
     "execution_count": 83,
     "metadata": {},
     "output_type": "execute_result"
    }
   ],
   "source": [
    "X = telecom_data.drop('churn', 1)\n",
    "y = telecom_data['churn']\n",
    "\n",
    "tree = DecisionTreeClassifier(criterion = \"gini\", \n",
    "                                  random_state = 100,\n",
    "                                  max_depth=4, \n",
    "                                  min_samples_leaf=50,\n",
    "                                  min_samples_split=50)\n",
    "tree.fit(X,y)\n",
    "\n",
    "# score\n",
    "print(tree.score(X,y))\n",
    "# plotting tree with max_depth=3\n",
    "dot_data = StringIO()  \n",
    "export_graphviz(tree, out_file=dot_data,feature_names=X.columns,filled=True,rounded=True)\n",
    "\n",
    "graph = pydotplus.graph_from_dot_data(dot_data.getvalue())  \n",
    "Image(graph.create_png())\n"
   ]
  },
  {
   "cell_type": "code",
   "execution_count": null,
   "metadata": {},
   "outputs": [],
   "source": []
  }
 ],
 "metadata": {
  "kernelspec": {
   "display_name": "Python 3",
   "language": "python",
   "name": "python3"
  },
  "language_info": {
   "codemirror_mode": {
    "name": "ipython",
    "version": 3
   },
   "file_extension": ".py",
   "mimetype": "text/x-python",
   "name": "python",
   "nbconvert_exporter": "python",
   "pygments_lexer": "ipython3",
   "version": "3.6.5"
  }
 },
 "nbformat": 4,
 "nbformat_minor": 2
}
